{
 "cells": [
  {
   "cell_type": "code",
   "execution_count": 31,
   "metadata": {},
   "outputs": [
    {
     "data": {
      "text/plain": [
       "'\\n\\n\\n我们将把过去几节中学到的 PyTorch 工作流程应用到计算机视觉中。\\n\\n\\n0.PyTorch中的计算机视觉库     PyTorch 有很多内置的有用的计算机视觉库，让我们来看看。\\n1. 加载数据                 为了练习计算机视觉，我们将从FashionMNIST中不同服装的一些图像开始\\n2. 准备数据                 我们有一些图像，让我们使用PyTorch DataLoader加载它们，以便我们可以在训练循环中使用它们。\\n3. 模型0: 构建基线模型       在这里，我们将创建一个多类分类模型来学习数据中的模式，我们还将选择损失函数、优化器并构建训练循环。\\n4. 进行预测和评估模型 0       让我们用基线模型进行一些预测并对其进行评估。\\n5. 为未来模型设置设备无关代码  最佳实践是编写与设备无关的代码，所以让我们来设置它。\\n6. 模型 1: 添加非线性        实验是机器学习的重要组成部分，让我们尝试通过添加非线性层来改进我们的基线模型。\\n7. 模型2: 卷积神经网络(CNN)  是时候具体了解计算机视觉并介绍强大的卷积神经网络架构了。\\n8. 比较我们的模型            我们构建了三种不同的模型，让我们对它们进行比较。\\n9. 评估我们的最佳模型        让我们对随机图像进行一些预测并评估我们的最佳模型。\\n10.制作混淆矩阵             混淆矩阵是评估分类模型的好方法，让我们看看如何制作一个。\\n11.保存和加载性能最佳的模型   由于我们可能想稍后使用我们的模型，因此我们保存它并确保它正确加载。\\n\\n'"
      ]
     },
     "execution_count": 31,
     "metadata": {},
     "output_type": "execute_result"
    }
   ],
   "source": [
    "'''\n",
    "\n",
    "\n",
    "我们将把过去几节中学到的 PyTorch 工作流程应用到计算机视觉中。\n",
    "\n",
    "\n",
    "0.PyTorch中的计算机视觉库     PyTorch 有很多内置的有用的计算机视觉库，让我们来看看。\n",
    "1. 加载数据                 为了练习计算机视觉，我们将从FashionMNIST中不同服装的一些图像开始\n",
    "2. 准备数据                 我们有一些图像，让我们使用PyTorch DataLoader加载它们，以便我们可以在训练循环中使用它们。\n",
    "3. 模型0: 构建基线模型       在这里，我们将创建一个多类分类模型来学习数据中的模式，我们还将选择损失函数、优化器并构建训练循环。\n",
    "4. 进行预测和评估模型 0       让我们用基线模型进行一些预测并对其进行评估。\n",
    "5. 为未来模型设置设备无关代码  最佳实践是编写与设备无关的代码，所以让我们来设置它。\n",
    "6. 模型 1: 添加非线性        实验是机器学习的重要组成部分，让我们尝试通过添加非线性层来改进我们的基线模型。\n",
    "7. 模型2: 卷积神经网络(CNN)  是时候具体了解计算机视觉并介绍强大的卷积神经网络架构了。\n",
    "8. 比较我们的模型            我们构建了三种不同的模型，让我们对它们进行比较。\n",
    "9. 评估我们的最佳模型        让我们对随机图像进行一些预测并评估我们的最佳模型。\n",
    "10.制作混淆矩阵             混淆矩阵是评估分类模型的好方法，让我们看看如何制作一个。\n",
    "11.保存和加载性能最佳的模型   由于我们可能想稍后使用我们的模型，因此我们保存它并确保它正确加载。\n",
    "\n",
    "'''"
   ]
  },
  {
   "cell_type": "code",
   "execution_count": 32,
   "metadata": {},
   "outputs": [
    {
     "name": "stdout",
     "output_type": "stream",
     "text": [
      "PyTorch version: 2.4.0+cu121\n",
      "torchvision version: 0.19.0+cu121\n"
     ]
    }
   ],
   "source": [
    "'''\n",
    "0.PyTorch中的计算机视觉库\n",
    "\n",
    "torchvision               包含常用于计算机视觉问题的数据集、模型架构和图像转换。\n",
    "torchvision.datasets     在这里，您将找到许多示例计算机视觉数据集，用于解决图像分类、对象检测、图像字幕、视频分类等一系列问题。它还包含一系列用于制作自定义数据集的基类。\n",
    "torchvision.models       该模块包含在 PyTorch 中实现的性能良好且常用的计算机视觉模型架构，您可以将它们用于解决您自己的问题。\n",
    "torchvision.transforms   在与模型一起使用之前，图像通常需要进行转换（转换为数字/处理/增强），常见的图像转换可以在此处找到。\n",
    "torch.utils.data.Dataset  PyTorch 的基础数据集类。\n",
    "torch.utils.data.DataLoader     在数据集上创建 Python 可迭代对象（使用torch.utils.data.Dataset创建）。\n",
    "\n",
    "\n",
    "注意： torch.utils.data.Dataset 和 torch.utils.data.DataLoader\n",
    "类不仅适用于 PyTorch 中的计算机视觉，它们还能够处理许多不同类型的数据。\n",
    "\n",
    "\n",
    "现在我们已经介绍了一些最重要的 PyTorch 计算机视觉库，让我们导入相关的依赖项。\n",
    "\n",
    "'''\n",
    "\n",
    "# Import PyTorch\n",
    "import torch\n",
    "from torch import nn\n",
    "\n",
    "# Import torchvision \n",
    "import torchvision\n",
    "from torchvision import datasets\n",
    "from torchvision.transforms import ToTensor\n",
    "\n",
    "# Import matplotlib for visualization\n",
    "import matplotlib.pyplot as plt\n",
    "\n",
    "# Check versions\n",
    "# Note: your PyTorch version shouldn't be lower than 1.10.0 and torchvision version shouldn't be lower than 0.11\n",
    "print(f\"PyTorch version: {torch.__version__}\\ntorchvision version: {torchvision.__version__}\")\n",
    "\n"
   ]
  },
  {
   "cell_type": "code",
   "execution_count": 33,
   "metadata": {},
   "outputs": [],
   "source": [
    "'''\n",
    "1. 获取数据集\n",
    "\n",
    "我们将从 FashionMNIST 开始。\n",
    "MNIST stands for Modified National Institute of Standards and Technology.\n",
    "MNIST 代表修改后的国家标准与技术研究院。\n",
    "原始 MNIST 数据集包含数千个手写数字示例（从 0 到 9），用于构建计算机视觉模型来识别邮政服务号码。\n",
    "由 Zalando Research 开发的FashionMNIST也是类似的设置。\n",
    "但它包含 10 种不同服装的灰度图像。\n",
    "\n",
    "torchvision.datasets包含许多示例数据集，您可以使用它们来练习编写计算机视觉代码。 \n",
    "FashionMNIST 就是其中之一。由于它有 10 个不同的图像类别（不同类型的服装），因此这是一个多类别分类问题。\n",
    "\n",
    "PyTorch 在torchvision.datasets中存储了一堆常见的计算机视觉数据集。\n",
    "将 FashionMNIST 纳入其中。\n",
    "\n",
    "要下载它，我们提供以下参数：\n",
    "root: str           - 您要将数据下载到哪个文件夹？\n",
    "train: Bool         - 你想要训练还是测试分开？\n",
    "download: Bool      - 是否应该下载数据？\n",
    "transform: torchvision.transforms - 您想对数据进行什么转换？\n",
    "target_transform    - 如果您也愿意，您可以转换目标（标签）。\n",
    "\n",
    "'''\n",
    "\n",
    "# Setup training data\n",
    "train_data = datasets.FashionMNIST(\n",
    "    root=\"data\", # where to download data to?\n",
    "    train=True, # get training data\n",
    "    download=True, # download data if it doesn't exist on disk\n",
    "    transform=ToTensor(), # images come as PIL format, we want to turn into Torch tensors\n",
    "    target_transform=None # you can transform labels as well\n",
    ")\n",
    "\n",
    "# Setup testing data\n",
    "test_data = datasets.FashionMNIST(\n",
    "    root=\"data\",\n",
    "    train=False, # get test data\n",
    "    download=True,\n",
    "    transform=ToTensor()\n",
    ")\n",
    "\n",
    "# train_data.shape"
   ]
  },
  {
   "cell_type": "code",
   "execution_count": 34,
   "metadata": {},
   "outputs": [
    {
     "data": {
      "text/plain": [
       "(tensor([[[0.0000, 0.0000, 0.0000, 0.0000, 0.0000, 0.0000, 0.0000, 0.0000,\n",
       "           0.0000, 0.0000, 0.0000, 0.0000, 0.0000, 0.0000, 0.0000, 0.0000,\n",
       "           0.0000, 0.0000, 0.0000, 0.0000, 0.0000, 0.0000, 0.0000, 0.0000,\n",
       "           0.0000, 0.0000, 0.0000, 0.0000],\n",
       "          [0.0000, 0.0000, 0.0000, 0.0000, 0.0000, 0.0000, 0.0000, 0.0000,\n",
       "           0.0000, 0.0000, 0.0000, 0.0000, 0.0000, 0.0000, 0.0000, 0.0000,\n",
       "           0.0000, 0.0000, 0.0000, 0.0000, 0.0000, 0.0000, 0.0000, 0.0000,\n",
       "           0.0000, 0.0000, 0.0000, 0.0000],\n",
       "          [0.0000, 0.0000, 0.0000, 0.0000, 0.0000, 0.0000, 0.0000, 0.0000,\n",
       "           0.0000, 0.0000, 0.0000, 0.0000, 0.0000, 0.0000, 0.0000, 0.0000,\n",
       "           0.0000, 0.0000, 0.0000, 0.0000, 0.0000, 0.0000, 0.0000, 0.0000,\n",
       "           0.0000, 0.0000, 0.0000, 0.0000],\n",
       "          [0.0000, 0.0000, 0.0000, 0.0000, 0.0000, 0.0000, 0.0000, 0.0000,\n",
       "           0.0000, 0.0000, 0.0000, 0.0000, 0.0039, 0.0000, 0.0000, 0.0510,\n",
       "           0.2863, 0.0000, 0.0000, 0.0039, 0.0157, 0.0000, 0.0000, 0.0000,\n",
       "           0.0000, 0.0039, 0.0039, 0.0000],\n",
       "          [0.0000, 0.0000, 0.0000, 0.0000, 0.0000, 0.0000, 0.0000, 0.0000,\n",
       "           0.0000, 0.0000, 0.0000, 0.0000, 0.0118, 0.0000, 0.1412, 0.5333,\n",
       "           0.4980, 0.2431, 0.2118, 0.0000, 0.0000, 0.0000, 0.0039, 0.0118,\n",
       "           0.0157, 0.0000, 0.0000, 0.0118],\n",
       "          [0.0000, 0.0000, 0.0000, 0.0000, 0.0000, 0.0000, 0.0000, 0.0000,\n",
       "           0.0000, 0.0000, 0.0000, 0.0000, 0.0235, 0.0000, 0.4000, 0.8000,\n",
       "           0.6902, 0.5255, 0.5647, 0.4824, 0.0902, 0.0000, 0.0000, 0.0000,\n",
       "           0.0000, 0.0471, 0.0392, 0.0000],\n",
       "          [0.0000, 0.0000, 0.0000, 0.0000, 0.0000, 0.0000, 0.0000, 0.0000,\n",
       "           0.0000, 0.0000, 0.0000, 0.0000, 0.0000, 0.0000, 0.6078, 0.9255,\n",
       "           0.8118, 0.6980, 0.4196, 0.6118, 0.6314, 0.4275, 0.2510, 0.0902,\n",
       "           0.3020, 0.5098, 0.2824, 0.0588],\n",
       "          [0.0000, 0.0000, 0.0000, 0.0000, 0.0000, 0.0000, 0.0000, 0.0000,\n",
       "           0.0000, 0.0000, 0.0000, 0.0039, 0.0000, 0.2706, 0.8118, 0.8745,\n",
       "           0.8549, 0.8471, 0.8471, 0.6392, 0.4980, 0.4745, 0.4784, 0.5725,\n",
       "           0.5529, 0.3451, 0.6745, 0.2588],\n",
       "          [0.0000, 0.0000, 0.0000, 0.0000, 0.0000, 0.0000, 0.0000, 0.0000,\n",
       "           0.0000, 0.0039, 0.0039, 0.0039, 0.0000, 0.7843, 0.9098, 0.9098,\n",
       "           0.9137, 0.8980, 0.8745, 0.8745, 0.8431, 0.8353, 0.6431, 0.4980,\n",
       "           0.4824, 0.7686, 0.8980, 0.0000],\n",
       "          [0.0000, 0.0000, 0.0000, 0.0000, 0.0000, 0.0000, 0.0000, 0.0000,\n",
       "           0.0000, 0.0000, 0.0000, 0.0000, 0.0000, 0.7176, 0.8824, 0.8471,\n",
       "           0.8745, 0.8941, 0.9216, 0.8902, 0.8784, 0.8706, 0.8784, 0.8667,\n",
       "           0.8745, 0.9608, 0.6784, 0.0000],\n",
       "          [0.0000, 0.0000, 0.0000, 0.0000, 0.0000, 0.0000, 0.0000, 0.0000,\n",
       "           0.0000, 0.0000, 0.0000, 0.0000, 0.0000, 0.7569, 0.8941, 0.8549,\n",
       "           0.8353, 0.7765, 0.7059, 0.8314, 0.8235, 0.8275, 0.8353, 0.8745,\n",
       "           0.8627, 0.9529, 0.7922, 0.0000],\n",
       "          [0.0000, 0.0000, 0.0000, 0.0000, 0.0000, 0.0000, 0.0000, 0.0000,\n",
       "           0.0000, 0.0039, 0.0118, 0.0000, 0.0471, 0.8588, 0.8627, 0.8314,\n",
       "           0.8549, 0.7529, 0.6627, 0.8902, 0.8157, 0.8549, 0.8784, 0.8314,\n",
       "           0.8863, 0.7725, 0.8196, 0.2039],\n",
       "          [0.0000, 0.0000, 0.0000, 0.0000, 0.0000, 0.0000, 0.0000, 0.0000,\n",
       "           0.0000, 0.0000, 0.0235, 0.0000, 0.3882, 0.9569, 0.8706, 0.8627,\n",
       "           0.8549, 0.7961, 0.7765, 0.8667, 0.8431, 0.8353, 0.8706, 0.8627,\n",
       "           0.9608, 0.4667, 0.6549, 0.2196],\n",
       "          [0.0000, 0.0000, 0.0000, 0.0000, 0.0000, 0.0000, 0.0000, 0.0000,\n",
       "           0.0000, 0.0157, 0.0000, 0.0000, 0.2157, 0.9255, 0.8941, 0.9020,\n",
       "           0.8941, 0.9412, 0.9098, 0.8353, 0.8549, 0.8745, 0.9176, 0.8510,\n",
       "           0.8510, 0.8196, 0.3608, 0.0000],\n",
       "          [0.0000, 0.0000, 0.0039, 0.0157, 0.0235, 0.0275, 0.0078, 0.0000,\n",
       "           0.0000, 0.0000, 0.0000, 0.0000, 0.9294, 0.8863, 0.8510, 0.8745,\n",
       "           0.8706, 0.8588, 0.8706, 0.8667, 0.8471, 0.8745, 0.8980, 0.8431,\n",
       "           0.8549, 1.0000, 0.3020, 0.0000],\n",
       "          [0.0000, 0.0118, 0.0000, 0.0000, 0.0000, 0.0000, 0.0000, 0.0000,\n",
       "           0.0000, 0.2431, 0.5686, 0.8000, 0.8941, 0.8118, 0.8353, 0.8667,\n",
       "           0.8549, 0.8157, 0.8275, 0.8549, 0.8784, 0.8745, 0.8588, 0.8431,\n",
       "           0.8784, 0.9569, 0.6235, 0.0000],\n",
       "          [0.0000, 0.0000, 0.0000, 0.0000, 0.0706, 0.1725, 0.3216, 0.4196,\n",
       "           0.7412, 0.8941, 0.8627, 0.8706, 0.8510, 0.8863, 0.7843, 0.8039,\n",
       "           0.8275, 0.9020, 0.8784, 0.9176, 0.6902, 0.7373, 0.9804, 0.9725,\n",
       "           0.9137, 0.9333, 0.8431, 0.0000],\n",
       "          [0.0000, 0.2235, 0.7333, 0.8157, 0.8784, 0.8667, 0.8784, 0.8157,\n",
       "           0.8000, 0.8392, 0.8157, 0.8196, 0.7843, 0.6235, 0.9608, 0.7569,\n",
       "           0.8078, 0.8745, 1.0000, 1.0000, 0.8667, 0.9176, 0.8667, 0.8275,\n",
       "           0.8627, 0.9098, 0.9647, 0.0000],\n",
       "          [0.0118, 0.7922, 0.8941, 0.8784, 0.8667, 0.8275, 0.8275, 0.8392,\n",
       "           0.8039, 0.8039, 0.8039, 0.8627, 0.9412, 0.3137, 0.5882, 1.0000,\n",
       "           0.8980, 0.8667, 0.7373, 0.6039, 0.7490, 0.8235, 0.8000, 0.8196,\n",
       "           0.8706, 0.8941, 0.8824, 0.0000],\n",
       "          [0.3843, 0.9137, 0.7765, 0.8235, 0.8706, 0.8980, 0.8980, 0.9176,\n",
       "           0.9765, 0.8627, 0.7608, 0.8431, 0.8510, 0.9451, 0.2549, 0.2863,\n",
       "           0.4157, 0.4588, 0.6588, 0.8588, 0.8667, 0.8431, 0.8510, 0.8745,\n",
       "           0.8745, 0.8784, 0.8980, 0.1137],\n",
       "          [0.2941, 0.8000, 0.8314, 0.8000, 0.7569, 0.8039, 0.8275, 0.8824,\n",
       "           0.8471, 0.7255, 0.7725, 0.8078, 0.7765, 0.8353, 0.9412, 0.7647,\n",
       "           0.8902, 0.9608, 0.9373, 0.8745, 0.8549, 0.8314, 0.8196, 0.8706,\n",
       "           0.8627, 0.8667, 0.9020, 0.2627],\n",
       "          [0.1882, 0.7961, 0.7176, 0.7608, 0.8353, 0.7725, 0.7255, 0.7451,\n",
       "           0.7608, 0.7529, 0.7922, 0.8392, 0.8588, 0.8667, 0.8627, 0.9255,\n",
       "           0.8824, 0.8471, 0.7804, 0.8078, 0.7294, 0.7098, 0.6941, 0.6745,\n",
       "           0.7098, 0.8039, 0.8078, 0.4510],\n",
       "          [0.0000, 0.4784, 0.8588, 0.7569, 0.7020, 0.6706, 0.7176, 0.7686,\n",
       "           0.8000, 0.8235, 0.8353, 0.8118, 0.8275, 0.8235, 0.7843, 0.7686,\n",
       "           0.7608, 0.7490, 0.7647, 0.7490, 0.7765, 0.7529, 0.6902, 0.6118,\n",
       "           0.6549, 0.6941, 0.8235, 0.3608],\n",
       "          [0.0000, 0.0000, 0.2902, 0.7412, 0.8314, 0.7490, 0.6863, 0.6745,\n",
       "           0.6863, 0.7098, 0.7255, 0.7373, 0.7412, 0.7373, 0.7569, 0.7765,\n",
       "           0.8000, 0.8196, 0.8235, 0.8235, 0.8275, 0.7373, 0.7373, 0.7608,\n",
       "           0.7529, 0.8471, 0.6667, 0.0000],\n",
       "          [0.0078, 0.0000, 0.0000, 0.0000, 0.2588, 0.7843, 0.8706, 0.9294,\n",
       "           0.9373, 0.9490, 0.9647, 0.9529, 0.9569, 0.8667, 0.8627, 0.7569,\n",
       "           0.7490, 0.7020, 0.7137, 0.7137, 0.7098, 0.6902, 0.6510, 0.6588,\n",
       "           0.3882, 0.2275, 0.0000, 0.0000],\n",
       "          [0.0000, 0.0000, 0.0000, 0.0000, 0.0000, 0.0000, 0.0000, 0.1569,\n",
       "           0.2392, 0.1725, 0.2824, 0.1608, 0.1373, 0.0000, 0.0000, 0.0000,\n",
       "           0.0000, 0.0000, 0.0000, 0.0000, 0.0000, 0.0000, 0.0000, 0.0000,\n",
       "           0.0000, 0.0000, 0.0000, 0.0000],\n",
       "          [0.0000, 0.0000, 0.0000, 0.0000, 0.0000, 0.0000, 0.0000, 0.0000,\n",
       "           0.0000, 0.0000, 0.0000, 0.0000, 0.0000, 0.0000, 0.0000, 0.0000,\n",
       "           0.0000, 0.0000, 0.0000, 0.0000, 0.0000, 0.0000, 0.0000, 0.0000,\n",
       "           0.0000, 0.0000, 0.0000, 0.0000],\n",
       "          [0.0000, 0.0000, 0.0000, 0.0000, 0.0000, 0.0000, 0.0000, 0.0000,\n",
       "           0.0000, 0.0000, 0.0000, 0.0000, 0.0000, 0.0000, 0.0000, 0.0000,\n",
       "           0.0000, 0.0000, 0.0000, 0.0000, 0.0000, 0.0000, 0.0000, 0.0000,\n",
       "           0.0000, 0.0000, 0.0000, 0.0000]]]),\n",
       " 9)"
      ]
     },
     "execution_count": 34,
     "metadata": {},
     "output_type": "execute_result"
    }
   ],
   "source": [
    "\n",
    "# See first training sample\n",
    "image, label = train_data[0]\n",
    "image, label\n"
   ]
  },
  {
   "cell_type": "code",
   "execution_count": 35,
   "metadata": {},
   "outputs": [
    {
     "data": {
      "text/plain": [
       "torch.Size([1, 28, 28])"
      ]
     },
     "execution_count": 35,
     "metadata": {},
     "output_type": "execute_result"
    }
   ],
   "source": [
    "\n",
    "# What's the shape of the image?\n",
    "# [color_channels=1, height=28, width=28]\n",
    "\n",
    "image.shape\n"
   ]
  },
  {
   "cell_type": "code",
   "execution_count": 36,
   "metadata": {},
   "outputs": [
    {
     "data": {
      "text/plain": [
       "(60000, 60000, 10000, 10000)"
      ]
     },
     "execution_count": 36,
     "metadata": {},
     "output_type": "execute_result"
    }
   ],
   "source": [
    "'''\n",
    "我们当前张量的顺序通常称为CHW （颜色通道、高度、宽度）。\n",
    "\n",
    "关于图像应该表示为CHW （颜色通道在前）还是HWC （颜色通道在后）存在争议。\n",
    "\n",
    "PyTorch 通常接受NCHW （通道优先）作为许多算子的默认设置。\n",
    "\n",
    "然而，PyTorch 还解释说NHWC （通道最后）性能更好，被认为是最佳实践。\n",
    "\n",
    "\n",
    "目前，由于我们的数据集和模型相对较小，因此这不会产生太大的差异。\n",
    "\n",
    "让我们检查一下数据的更多形状。\n",
    "\n",
    "\n",
    "'''\n",
    "\n",
    "# How many samples are there? \n",
    "len(train_data.data), len(train_data.targets), len(test_data.data), len(test_data.targets)"
   ]
  },
  {
   "cell_type": "code",
   "execution_count": 37,
   "metadata": {},
   "outputs": [
    {
     "data": {
      "text/plain": [
       "['T-shirt/top',\n",
       " 'Trouser',\n",
       " 'Pullover',\n",
       " 'Dress',\n",
       " 'Coat',\n",
       " 'Sandal',\n",
       " 'Shirt',\n",
       " 'Sneaker',\n",
       " 'Bag',\n",
       " 'Ankle boot']"
      ]
     },
     "execution_count": 37,
     "metadata": {},
     "output_type": "execute_result"
    }
   ],
   "source": [
    "\n",
    "'''\n",
    "所以我们有 60,000 个训练样本和 10,000 个测试样本。\n",
    "我们可以通过.classes属性找到它们。\n",
    "\n",
    "\n",
    "'''\n",
    "\n",
    "# See classes\n",
    "class_names = train_data.classes\n",
    "class_names\n"
   ]
  },
  {
   "cell_type": "code",
   "execution_count": 38,
   "metadata": {},
   "outputs": [
    {
     "name": "stdout",
     "output_type": "stream",
     "text": [
      "Image shape: torch.Size([1, 28, 28])\n"
     ]
    },
    {
     "data": {
      "image/png": "[encoded data removed]",
      "text/plain": [
       "<Figure size 640x480 with 1 Axes>"
      ]
     },
     "metadata": {},
     "output_type": "display_data"
    }
   ],
   "source": [
    "'''\n",
    "看起来我们正在处理 10 种不同的衣服。\n",
    "因为我们正在处理 10 个不同的类，所以这意味着我们的问题是多类分类。\n",
    "\n",
    "\n",
    "'''\n",
    "\n",
    "\n",
    "import matplotlib.pyplot as plt\n",
    "image, label = train_data[0]\n",
    "print(f\"Image shape: {image.shape}\")\n",
    "plt.imshow(image.squeeze()) # image shape is [1, 28, 28] (colour channels, height, width)\n",
    "plt.title(label);"
   ]
  },
  {
   "cell_type": "code",
   "execution_count": 39,
   "metadata": {},
   "outputs": [
    {
     "data": {
      "image/png": "[encoded data removed]",
      "text/plain": [
       "<Figure size 640x480 with 1 Axes>"
      ]
     },
     "metadata": {},
     "output_type": "display_data"
    }
   ],
   "source": [
    "# 我们可以使用plt.imshow()的cmap参数将图像转换为灰度。\n",
    "\n",
    "plt.imshow(image.squeeze(), cmap=\"gray\")\n",
    "plt.title(class_names[label]);"
   ]
  },
  {
   "cell_type": "code",
   "execution_count": 40,
   "metadata": {},
   "outputs": [
    {
     "data": {
      "image/png": "[encoded data removed]",
      "text/plain": [
       "<Figure size 900x900 with 16 Axes>"
      ]
     },
     "metadata": {},
     "output_type": "display_data"
    }
   ],
   "source": [
    "\n",
    "# Plot more images\n",
    "torch.manual_seed(42)\n",
    "fig = plt.figure(figsize=(9, 9))\n",
    "rows, cols = 4, 4\n",
    "for i in range(1, rows * cols + 1):\n",
    "    random_idx = torch.randint(0, len(train_data), size=[1]).item()\n",
    "    img, label = train_data[random_idx]\n",
    "    fig.add_subplot(rows, cols, i)\n",
    "    plt.imshow(img.squeeze(), cmap=\"gray\")\n",
    "    plt.title(class_names[label])\n",
    "    plt.axis(False);"
   ]
  },
  {
   "cell_type": "code",
   "execution_count": 41,
   "metadata": {},
   "outputs": [
    {
     "name": "stdout",
     "output_type": "stream",
     "text": [
      "Dataloaders: (<torch.utils.data.dataloader.DataLoader object at 0x7f25dcb775b0>, <torch.utils.data.dataloader.DataLoader object at 0x7f25d658e3b0>)\n",
      "Length of train dataloader: 1875 batches of 32\n",
      "Length of test dataloader: 313 batches of 32\n"
     ]
    },
    {
     "data": {
      "text/plain": [
       "(torch.Size([32, 1, 28, 28]), torch.Size([32]))"
      ]
     },
     "execution_count": 41,
     "metadata": {},
     "output_type": "execute_result"
    }
   ],
   "source": [
    "'''\n",
    "\n",
    "\n",
    "但我们将要学习的如何为其构建模型的原则在广泛的计算机视觉问题中都是相似的。\n",
    "\n",
    "本质上，获取像素值并构建模型以查找其中的模式以用于未来的像素值。\n",
    "\n",
    "另外，即使对于这个小数据集（是的，即使深度学习中的 60,000 张图像也被认为是相当小的），\n",
    "你能编写一个程序来对每个图像进行分类吗？\n",
    "\n",
    "你也许可以。\n",
    "\n",
    "\n",
    "但我认为在 PyTorch 中编写模型会更快。\n",
    "\n",
    "\n",
    "\n",
    "2. 准备DataLoader\n",
    "\n",
    "\n",
    "下一步是使用 torch.utils.data.DataLoader 或简称 DataLoader 来准备它。\n",
    "\n",
    "DataLoader 会执行您认为它可能执行的操作。\n",
    "\n",
    "它将大型Dataset转换为较小块的 Python 迭代。\n",
    "\n",
    "这些较小的块称为批次或迷你批次，可以通过batch_size参数设置。\n",
    "\n",
    "为什么要这样做？ 因为它的计算效率更高。\n",
    "\n",
    "\n",
    "在理想的情况下，您可以同时对所有数据进行前向传递和反向传递。\n",
    "\n",
    "但是一旦你开始使用非常大的数据集，除非你有无限的计算能力，否则将它们分成批次会更容易。\n",
    "\n",
    "对于小批量（数据的一小部分），每个时期执行梯度下降的频率更高（每个小批量一次而不是每个epoch 一次）。\n",
    "\n",
    "什么是好的批量大小？\n",
    "32 是解决相当多问题的好起点。\n",
    "\n",
    "但由于这是一个可以设置的值（超参数），因此您可以尝试所有不同类型的值，\n",
    "尽管通常最常使用 2 的幂（例如 32、64、128、256、512）。\n",
    "\n",
    "\n",
    "让我们为我们的训练和测试集创建DataLoader 。\n",
    "\n",
    "'''\n",
    "\n",
    "from torch.utils.data import DataLoader\n",
    "\n",
    "# Setup the batch size hyperparameter\n",
    "BATCH_SIZE = 32\n",
    "\n",
    "# Turn datasets into iterables (batches)\n",
    "train_dataloader = DataLoader(train_data, # dataset to turn into iterable\n",
    "    batch_size=BATCH_SIZE, # how many samples per batch? \n",
    "    shuffle=True # shuffle data every epoch?\n",
    ")\n",
    "\n",
    "test_dataloader = DataLoader(test_data,\n",
    "    batch_size=BATCH_SIZE,\n",
    "    shuffle=False # don't necessarily have to shuffle the testing data\n",
    ")\n",
    "\n",
    "# Let's check out what we've created\n",
    "print(f\"Dataloaders: {train_dataloader, test_dataloader}\") \n",
    "print(f\"Length of train dataloader: {len(train_dataloader)} batches of {BATCH_SIZE}\")\n",
    "print(f\"Length of test dataloader: {len(test_dataloader)} batches of {BATCH_SIZE}\")\n",
    "\n",
    "# Check out what's inside the training dataloader\n",
    "train_features_batch, train_labels_batch = next(iter(train_dataloader))\n",
    "train_features_batch.shape, train_labels_batch.shape"
   ]
  },
  {
   "cell_type": "code",
   "execution_count": 42,
   "metadata": {},
   "outputs": [
    {
     "name": "stdout",
     "output_type": "stream",
     "text": [
      "image shape is torch.Size([1, 28, 28])\n",
      "Image size: torch.Size([1, 28, 28])\n",
      "Label: 6, label size: torch.Size([])\n"
     ]
    },
    {
     "data": {
      "image/png": "[encoded data removed]",
      "text/plain": [
       "<Figure size 640x480 with 1 Axes>"
      ]
     },
     "metadata": {},
     "output_type": "display_data"
    }
   ],
   "source": [
    "\n",
    "# 我们通过检查单个样本可以看到数据保持不变。\n",
    "\n",
    "# Show a sample\n",
    "torch.manual_seed(42)\n",
    "random_idx = torch.randint(0, len(train_features_batch), size=[1]).item()\n",
    "img, label = train_features_batch[random_idx], train_labels_batch[random_idx]\n",
    "\n",
    "print(f\"image shape is {img.shape}\")\n",
    "\n",
    "plt.imshow(img.squeeze(), cmap=\"gray\")\n",
    "plt.title(class_names[label])\n",
    "plt.axis(\"Off\");\n",
    "print(f\"Image size: {img.shape}\")\n",
    "print(f\"Label: {label}, label size: {label.shape}\")"
   ]
  },
  {
   "cell_type": "code",
   "execution_count": 47,
   "metadata": {},
   "outputs": [
    {
     "name": "stdout",
     "output_type": "stream",
     "text": [
      "Shape before flattening: torch.Size([1, 28, 28]) -> [color_channels, height, width]\n",
      "Shape after flattening: torch.Size([1, 784]) -> [color_channels, height*width]\n"
     ]
    }
   ],
   "source": [
    "'''\n",
    "3.模型0：构建基线模型\n",
    "\n",
    "数据已加载并准备就绪！\n",
    "是时候通过子类化nn.Module来构建基线模型了。\n",
    "\n",
    "基线模型是您能想象到的最简单的模型之一。\n",
    "您使用基线作为起点，并尝试使用后续更复杂的模型对其进行改进。\n",
    "我们的基线将由两个nn.Linear()层组成。\n",
    "\n",
    "我们在上一节中已经做到了这一点，但会有一点细微的差别。\n",
    "\n",
    "因为我们正在处理图像数据，所以我们将使用不同的层来开始工作。\n",
    "\n",
    "这就是nn.Flatten()层。\n",
    "\n",
    "nn.Flatten()将张量的维度压缩为单个向量。\n",
    "\n",
    "'''\n",
    "\n",
    "# Create a flatten layer\n",
    "flatten_model = nn.Flatten() # all nn modules function as a model (can do a forward pass)\n",
    "\n",
    "# Get a single sample\n",
    "x = train_features_batch[0]\n",
    "\n",
    "# Flatten the sample\n",
    "output = flatten_model(x) # perform forward pass\n",
    "\n",
    "# Print out what happened\n",
    "print(f\"Shape before flattening: {x.shape} -> [color_channels, height, width]\")\n",
    "print(f\"Shape after flattening: {output.shape} -> [color_channels, height*width]\")\n",
    "\n",
    "# Try uncommenting below and see what happens\n",
    "# print(x)\n",
    "# print(output)"
   ]
  },
  {
   "cell_type": "code",
   "execution_count": 48,
   "metadata": {},
   "outputs": [
    {
     "data": {
      "text/plain": [
       "FashionMNISTModelV0(\n",
       "  (layer_stack): Sequential(\n",
       "    (0): Flatten(start_dim=1, end_dim=-1)\n",
       "    (1): Linear(in_features=784, out_features=10, bias=True)\n",
       "    (2): Linear(in_features=10, out_features=10, bias=True)\n",
       "  )\n",
       ")"
      ]
     },
     "execution_count": 48,
     "metadata": {},
     "output_type": "execute_result"
    }
   ],
   "source": [
    "\n",
    "'''\n",
    "\n",
    "nn.Flatten()层采用了我们的形状 [color_channels, height, width] 到 [color_channels, height*width] 。\n",
    "为什么要这样做？\n",
    "\n",
    "因为我们现在已经将像素数据从高度和宽度维度转换为一个长特征向量。\n",
    "nn.Linear()层喜欢其输入采用特征向量的形式。\n",
    "\n",
    "让我们使用nn.Flatten()作为第一层来创建第一个模型。\n",
    "\n",
    "\n",
    "'''\n",
    "from torch import nn\n",
    "class FashionMNISTModelV0(nn.Module):\n",
    "    def __init__(self, input_shape: int, hidden_units: int, output_shape: int):\n",
    "        super().__init__()\n",
    "        self.layer_stack = nn.Sequential(\n",
    "            nn.Flatten(), # neural networks like their inputs in vector form\n",
    "            nn.Linear(in_features=input_shape, out_features=hidden_units), # in_features = number of features in a data sample (784 pixels)\n",
    "            nn.Linear(in_features=hidden_units, out_features=output_shape)\n",
    "        )\n",
    "    \n",
    "    def forward(self, x):\n",
    "        return self.layer_stack(x)\n",
    "    \n",
    "\n",
    "'''\n",
    "\n",
    "我们已经有了一个可以使用的基线模型类，现在让我们实例化一个模型。\n",
    "\n",
    "我们需要设置以下参数：\n",
    "\n",
    "\n",
    "input_shape=784 - 这是模型中的特征数量，在我们的例子中，\n",
    "目标图像中的每个像素都有一个特征（28 像素高 x 28 像素宽 = 784 个特征）。\n",
    "\n",
    "hidden_units=10 - 隐藏层中的单元/神经元数量，这个数字可以是您想要的任何数字，但为了保持模型较小，我们将从10开始。\n",
    "\n",
    "output_shape=len(class_names) - 由于我们正在处理多类分类问题，因此数据集中的每个类都需要一个输出神经元。\n",
    "\n",
    "让我们创建一个模型实例并暂时发送到 CPU（我们将运行一个小测试，在 CPU 上运行model_0 ，然后在 GPU 上运行类似的模型）。\n",
    "\n",
    "\n",
    "\n",
    "'''\n",
    "\n",
    "\n",
    "torch.manual_seed(42)\n",
    "\n",
    "# Need to setup model with input parameters\n",
    "model_0 = FashionMNISTModelV0(input_shape=784, # one for every pixel (28x28)\n",
    "    hidden_units=10, # how many units in the hidden layer\n",
    "    output_shape=len(class_names) # one for every class\n",
    ")\n",
    "model_0.to(\"cpu\") # keep model on CPU to begin with \n",
    "\n"
   ]
  },
  {
   "cell_type": "code",
   "execution_count": 49,
   "metadata": {},
   "outputs": [
    {
     "name": "stderr",
     "output_type": "stream",
     "text": [
      "/home/intel/suhao/deep-learning-from-scratch/env_dlfs/lib/python3.10/site-packages/tqdm/auto.py:21: TqdmWarning: IProgress not found. Please update jupyter and ipywidgets. See https://ipywidgets.readthedocs.io/en/stable/user_install.html\n",
      "  from .autonotebook import tqdm as notebook_tqdm\n",
      "  0%|          | 0/3 [00:00<?, ?it/s]"
     ]
    },
    {
     "name": "stdout",
     "output_type": "stream",
     "text": [
      "Epoch: 0\n",
      "-------\n",
      "Looked at 0/60000 samples\n",
      "Looked at 12800/60000 samples\n",
      "Looked at 25600/60000 samples\n",
      "Looked at 38400/60000 samples\n",
      "Looked at 51200/60000 samples\n"
     ]
    },
    {
     "name": "stderr",
     "output_type": "stream",
     "text": [
      " 33%|███▎      | 1/3 [00:08<00:16,  8.29s/it]"
     ]
    },
    {
     "name": "stdout",
     "output_type": "stream",
     "text": [
      "\n",
      "Train loss: 0.59039 | Test loss: 0.50954, Test acc: 82.04%\n",
      "\n",
      "Epoch: 1\n",
      "-------\n",
      "Looked at 0/60000 samples\n",
      "Looked at 12800/60000 samples\n",
      "Looked at 25600/60000 samples\n",
      "Looked at 38400/60000 samples\n",
      "Looked at 51200/60000 samples\n"
     ]
    },
    {
     "name": "stderr",
     "output_type": "stream",
     "text": [
      " 67%|██████▋   | 2/3 [00:16<00:08,  8.42s/it]"
     ]
    },
    {
     "name": "stdout",
     "output_type": "stream",
     "text": [
      "\n",
      "Train loss: 0.47633 | Test loss: 0.47989, Test acc: 83.20%\n",
      "\n",
      "Epoch: 2\n",
      "-------\n",
      "Looked at 0/60000 samples\n",
      "Looked at 12800/60000 samples\n",
      "Looked at 25600/60000 samples\n",
      "Looked at 38400/60000 samples\n",
      "Looked at 51200/60000 samples\n"
     ]
    },
    {
     "name": "stderr",
     "output_type": "stream",
     "text": [
      "100%|██████████| 3/3 [00:25<00:00,  8.35s/it]"
     ]
    },
    {
     "name": "stdout",
     "output_type": "stream",
     "text": [
      "\n",
      "Train loss: 0.45503 | Test loss: 0.47664, Test acc: 83.43%\n",
      "\n",
      "Train time on cpu: 25.055 seconds\n"
     ]
    },
    {
     "name": "stderr",
     "output_type": "stream",
     "text": [
      "\n"
     ]
    }
   ],
   "source": [
    "'''\n",
    "3.1 设置损失、优化器和评估指标\n",
    "\n",
    "由于我们正在研究分类问题，因此让我们引入helper_functions.py脚本，然后引入我们在笔记本 02中定义的accuracy_fn() 。\n",
    "\n",
    "注意：您可以从TorchMetrics 包导入各种评估指标，而不是导入和使用我们自己的准确性函数或评估指标。\n",
    "\n",
    "\n",
    "\n",
    "'''\n",
    "\n",
    "# Import accuracy metric\n",
    "from helper_functions import accuracy_fn # Note: could also use torchmetrics.Accuracy(task = 'multiclass', num_classes=len(class_names)).to(device)\n",
    "\n",
    "# Setup loss function and optimizer\n",
    "loss_fn = nn.CrossEntropyLoss() # this is also called \"criterion\"/\"cost function\" in some places\n",
    "optimizer = torch.optim.SGD(params=model_0.parameters(), lr=0.1)\n",
    "\n",
    "'''\n",
    "3.2 创建一个函数来计时我们的实验\n",
    "\n",
    "是时候开始训练模型了。\n",
    "但是我们在训练时做一个小实验怎么样？\n",
    "我的意思是，让我们创建一个计时函数来测量我们的模型在 CPU 上训练与使用 GPU 训练所需的时间。\n",
    "\n",
    "我们将在 CPU 上训练这个模型，在 GPU 上训练下一个模型，看看会发生什么。\n",
    "\n",
    "我们的计时函数将从 Python timeit模块导入timeit.default_timer()函数。\n",
    "\n",
    "'''\n",
    "\n",
    "\n",
    "from timeit import default_timer as timer \n",
    "def print_train_time(start: float, end: float, device: torch.device = None):\n",
    "    \"\"\"Prints difference between start and end time.\n",
    "\n",
    "    Args:\n",
    "        start (float): Start time of computation (preferred in timeit format). \n",
    "        end (float): End time of computation.\n",
    "        device ([type], optional): Device that compute is running on. Defaults to None.\n",
    "\n",
    "    Returns:\n",
    "        float: time between start and end in seconds (higher is longer).\n",
    "    \"\"\"\n",
    "    total_time = end - start\n",
    "    print(f\"Train time on {device}: {total_time:.3f} seconds\")\n",
    "    return total_time\n",
    "\n",
    "'''\n",
    "3.3 创建训练循环并在批量数据上训练模型\n",
    "\n",
    "看起来我们已经准备好了拼图的所有部分，一个计时器，一个损失函数，一个优化器，一个模型，最重要的是，一些数据。\n",
    "\n",
    "现在让我们创建一个训练循环和一个测试循环来训练和评估我们的模型。\n",
    "\n",
    "我们将使用与之前的笔记本相同的步骤，但由于我们的数据现在采用批处理形式，因此我们将添加另一个循环来循环处理我们的数据批次。\n",
    "\n",
    "我们的数据批次包含在DataLoader中, train_dataloader 和 test_dataloader 分别用于训练和测试数据分割。\n",
    "\n",
    "一个批次是X （特征）和y （标签）的BATCH_SIZE样本，因为我们使用 BATCH_SIZE=32 ，所以我们的批次有 32 个图像和目标样本。\n",
    "\n",
    "由于我们正在计算批量数据，因此我们的损失和评估指标将按批次计算，而不是在整个数据集上计算。\n",
    "\n",
    "这意味着我们必须将损失和准确度值除以每个数据集各自的数据加载器中的批次数。\n",
    "\n",
    "1. 循环历元。\n",
    "2. 循环训练批次，执行训练步骤，计算每批次的训练损失。\n",
    "3. 循环测试批次，执行测试步骤，计算每批次的测试损失。\n",
    "4. 打印出发生了什么。\n",
    "5. 计时（为了好玩）。\n",
    "\n",
    "\n",
    "'''\n",
    "\n",
    "\n",
    "# Import tqdm for progress bar\n",
    "from tqdm.auto import tqdm\n",
    "\n",
    "# Set the seed and start the timer\n",
    "torch.manual_seed(42)\n",
    "train_time_start_on_cpu = timer()\n",
    "\n",
    "# Set the number of epochs (we'll keep this small for faster training times)\n",
    "epochs = 3\n",
    "\n",
    "# Create training and testing loop\n",
    "for epoch in tqdm(range(epochs)):\n",
    "    print(f\"Epoch: {epoch}\\n-------\")\n",
    "    ### Training\n",
    "    train_loss = 0\n",
    "    # Add a loop to loop through training batches\n",
    "    for batch, (X, y) in enumerate(train_dataloader):\n",
    "        model_0.train() \n",
    "        # 1. Forward pass\n",
    "        y_pred = model_0(X)\n",
    "\n",
    "        # 2. Calculate loss (per batch)\n",
    "        loss = loss_fn(y_pred, y)\n",
    "        train_loss += loss # accumulatively add up the loss per epoch \n",
    "\n",
    "        # 3. Optimizer zero grad\n",
    "        optimizer.zero_grad()\n",
    "\n",
    "        # 4. Loss backward\n",
    "        loss.backward()\n",
    "\n",
    "        # 5. Optimizer step\n",
    "        optimizer.step()\n",
    "\n",
    "        # Print out how many samples have been seen\n",
    "        if batch % 400 == 0:\n",
    "            print(f\"Looked at {batch * len(X)}/{len(train_dataloader.dataset)} samples\")\n",
    "\n",
    "    # Divide total train loss by length of train dataloader (average loss per batch per epoch)\n",
    "    train_loss /= len(train_dataloader)\n",
    "    \n",
    "    ### Testing\n",
    "    # Setup variables for accumulatively adding up loss and accuracy \n",
    "    test_loss, test_acc = 0, 0 \n",
    "    model_0.eval()\n",
    "    with torch.inference_mode():\n",
    "        for X, y in test_dataloader:\n",
    "            # 1. Forward pass\n",
    "            test_pred = model_0(X)\n",
    "           \n",
    "            # 2. Calculate loss (accumatively)\n",
    "            test_loss += loss_fn(test_pred, y) # accumulatively add up the loss per epoch\n",
    "\n",
    "            # 3. Calculate accuracy (preds need to be same as y_true)\n",
    "            test_acc += accuracy_fn(y_true=y, y_pred=test_pred.argmax(dim=1))\n",
    "        \n",
    "        # Calculations on test metrics need to happen inside torch.inference_mode()\n",
    "        # Divide total test loss by length of test dataloader (per batch)\n",
    "        test_loss /= len(test_dataloader)\n",
    "\n",
    "        # Divide total accuracy by length of test dataloader (per batch)\n",
    "        test_acc /= len(test_dataloader)\n",
    "\n",
    "    ## Print out what's happening\n",
    "    print(f\"\\nTrain loss: {train_loss:.5f} | Test loss: {test_loss:.5f}, Test acc: {test_acc:.2f}%\\n\")\n",
    "\n",
    "# Calculate training time      \n",
    "train_time_end_on_cpu = timer()\n",
    "total_train_time_model_0 = print_train_time(start=train_time_start_on_cpu, \n",
    "                                           end=train_time_end_on_cpu,\n",
    "                                           device=str(next(model_0.parameters()).device))\n",
    "\n",
    "\n"
   ]
  },
  {
   "cell_type": "code",
   "execution_count": 51,
   "metadata": {},
   "outputs": [
    {
     "data": {
      "text/plain": [
       "{'model_name': 'FashionMNISTModelV0',\n",
       " 'model_loss': 0.47663894295692444,\n",
       " 'model_acc': 83.42651757188499}"
      ]
     },
     "execution_count": 51,
     "metadata": {},
     "output_type": "execute_result"
    }
   ],
   "source": [
    "'''\n",
    "\n",
    "好的！看起来我们的基线模型表现得相当不错。\n",
    "训练的时间也不是太长，即使只是在CPU上训练，不知道在GPU上会不会加速？\n",
    "\n",
    "让我们编写一些代码来评估我们的模型。\n",
    "\n",
    "4. 进行预测并获得 Model 0 结果\n",
    "\n",
    "\n",
    "由于我们将构建一些模型，因此最好编写一些代码以类似的方式评估所有模型。\n",
    "\n",
    "也就是说，让我们创建一个接受训练模型、 DataLoader 、损失函数和准确度函数的函数。\n",
    "该函数将使用模型对DataLoader中的数据进行预测，然后我们可以使用损失函数和准确度函数评估这些预测。\n",
    "\n",
    "'''\n",
    "\n",
    "torch.manual_seed(42)\n",
    "def eval_model(model: torch.nn.Module, \n",
    "               data_loader: torch.utils.data.DataLoader, \n",
    "               loss_fn: torch.nn.Module, \n",
    "               accuracy_fn):\n",
    "    \"\"\"Returns a dictionary containing the results of model predicting on data_loader.\n",
    "\n",
    "    Args:\n",
    "        model (torch.nn.Module): A PyTorch model capable of making predictions on data_loader.\n",
    "        data_loader (torch.utils.data.DataLoader): The target dataset to predict on.\n",
    "        loss_fn (torch.nn.Module): The loss function of model.\n",
    "        accuracy_fn: An accuracy function to compare the models predictions to the truth labels.\n",
    "\n",
    "    Returns:\n",
    "        (dict): Results of model making predictions on data_loader.\n",
    "    \"\"\"\n",
    "    loss, acc = 0, 0\n",
    "    model.eval()\n",
    "    with torch.inference_mode():\n",
    "        for X, y in data_loader:\n",
    "            # Make predictions with the model\n",
    "            y_pred = model(X)\n",
    "            \n",
    "            # Accumulate the loss and accuracy values per batch\n",
    "            loss += loss_fn(y_pred, y)\n",
    "            acc += accuracy_fn(y_true=y, \n",
    "                                y_pred=y_pred.argmax(dim=1)) # For accuracy, need the prediction labels (logits -> pred_prob -> pred_labels)\n",
    "        \n",
    "        # Scale loss and acc to find the average loss/acc per batch\n",
    "        loss /= len(data_loader)\n",
    "        acc /= len(data_loader)\n",
    "        \n",
    "    return {\"model_name\": model.__class__.__name__, # only works when model was created with a class\n",
    "            \"model_loss\": loss.item(),\n",
    "            \"model_acc\": acc}\n",
    "\n",
    "# Calculate model 0 results on test dataset\n",
    "model_0_results = eval_model(model       = model_0, \n",
    "                             data_loader = test_dataloader,\n",
    "                             loss_fn     = loss_fn, \n",
    "                             accuracy_fn = accuracy_fn\n",
    ")\n",
    "model_0_results\n",
    "\n",
    "\n"
   ]
  },
  {
   "cell_type": "code",
   "execution_count": 52,
   "metadata": {},
   "outputs": [
    {
     "data": {
      "text/plain": [
       "'cuda'"
      ]
     },
     "execution_count": 52,
     "metadata": {},
     "output_type": "execute_result"
    }
   ],
   "source": [
    "'''\n",
    "稍后我们可以使用这个字典将基线模型结果与其他模型进行比较。\n",
    "\n",
    "5. 设置设备无关代码（用于使用 GPU，如果有的话\n",
    "\n",
    "我们已经了解了在 CPU 上使用 60,000 个样本训练 PyTorch 模型需要多长时间。\n",
    "现在，让我们为我们的模型和数据设置一些与设备无关的代码，以便在 GPU 可用时在 GPU 上运行。\n",
    "\n",
    "如果您在 Google Colab 上运行此笔记本，并且尚未打开 GPU，那么现在是时候通过以下方式打开 GPU： Runtime -> Change runtime type -> Hardware accelerator -> GPU 。如果这样做，您的运行时可能会重置，并且您必须通过运行Runtime -> Run before来运行上面的所有单元格。\n",
    "\n",
    "\n",
    "'''\n",
    "\n",
    "# Setup device agnostic code\n",
    "import torch\n",
    "device = \"cuda\" if torch.cuda.is_available() else \"cpu\"\n",
    "device\n",
    "\n",
    "\n"
   ]
  },
  {
   "cell_type": "code",
   "execution_count": 53,
   "metadata": {},
   "outputs": [
    {
     "name": "stdout",
     "output_type": "stream",
     "text": [
      "<generator object Module.parameters at 0x7f25dcc1a500>\n"
     ]
    },
    {
     "data": {
      "text/plain": [
       "device(type='cuda', index=0)"
      ]
     },
     "execution_count": 53,
     "metadata": {},
     "output_type": "execute_result"
    }
   ],
   "source": [
    "'''\n",
    "6. 模型 1：建立更好的非线性模型\n",
    "\n",
    "\n",
    "我们在笔记本 02 中了解了非线性的威力。\n",
    "\n",
    "看到我们一直在处理的数据，您认为它需要非线性函数吗？\n",
    "\n",
    "\n",
    "请记住，线性意味着直线，非线性意味着非直线。\n",
    "让我们来看看吧。\n",
    "我们将通过重新创建与之前类似的模型来实现此目的，但这次我们将在每个线性层之间放置非线性函数 ( nn.ReLU() )。\n",
    "\n",
    "'''\n",
    "\n",
    "# Create a model with non-linear and linear layers\n",
    "class FashionMNISTModelV1(nn.Module):\n",
    "    def __init__(self, input_shape: int, hidden_units: int, output_shape: int):\n",
    "        super().__init__()\n",
    "        self.layer_stack = nn.Sequential(\n",
    "            nn.Flatten(), # flatten inputs into single vector\n",
    "            nn.Linear(in_features=input_shape, out_features=hidden_units),\n",
    "            nn.ReLU(),\n",
    "            nn.Linear(in_features=hidden_units, out_features=output_shape),\n",
    "            nn.ReLU()\n",
    "        )\n",
    "    \n",
    "    def forward(self, x: torch.Tensor):\n",
    "        return self.layer_stack(x)\n",
    "    \n",
    "'''\n",
    "现在让我们使用之前使用的相同设置来实例化它。\n",
    "\n",
    "我们需要input_shape=784 （等于图像数据的特征数量）， \n",
    "hidden_units=10 （从小处开始，与我们的基线模型相同）和output_shape=len(class_names) （每个类一个输出单元）。\n",
    "\n",
    "\n",
    "\n",
    "'''\n",
    "\n",
    "torch.manual_seed(42)\n",
    "model_1 = FashionMNISTModelV1(input_shape=784, # number of input features\n",
    "    hidden_units=10,\n",
    "    output_shape=len(class_names) # number of output classes desired\n",
    ").to(device) # send model to GPU if it's available\n",
    "print(model_1.parameters())\n",
    "next(model_1.parameters()).device # check model device\n",
    "\n"
   ]
  },
  {
   "cell_type": "code",
   "execution_count": 54,
   "metadata": {},
   "outputs": [
    {
     "name": "stderr",
     "output_type": "stream",
     "text": [
      "  0%|          | 0/3 [00:00<?, ?it/s]"
     ]
    },
    {
     "name": "stdout",
     "output_type": "stream",
     "text": [
      "Epoch: 0\n",
      "---------\n",
      "Train loss: 1.09199 | Train accuracy: 61.34%\n"
     ]
    },
    {
     "name": "stderr",
     "output_type": "stream",
     "text": [
      " 33%|███▎      | 1/3 [00:07<00:15,  7.66s/it]"
     ]
    },
    {
     "name": "stdout",
     "output_type": "stream",
     "text": [
      "Test loss: 0.95636 | Test accuracy: 65.00%\n",
      "\n",
      "Epoch: 1\n",
      "---------\n",
      "Train loss: 0.78101 | Train accuracy: 71.93%\n"
     ]
    },
    {
     "name": "stderr",
     "output_type": "stream",
     "text": [
      " 67%|██████▋   | 2/3 [00:14<00:07,  7.40s/it]"
     ]
    },
    {
     "name": "stdout",
     "output_type": "stream",
     "text": [
      "Test loss: 0.72227 | Test accuracy: 73.91%\n",
      "\n",
      "Epoch: 2\n",
      "---------\n",
      "Train loss: 0.67027 | Train accuracy: 75.94%\n"
     ]
    },
    {
     "name": "stderr",
     "output_type": "stream",
     "text": [
      "100%|██████████| 3/3 [00:22<00:00,  7.37s/it]"
     ]
    },
    {
     "name": "stdout",
     "output_type": "stream",
     "text": [
      "Test loss: 0.68500 | Test accuracy: 75.02%\n",
      "\n",
      "Train time on cuda: 22.105 seconds\n"
     ]
    },
    {
     "name": "stderr",
     "output_type": "stream",
     "text": [
      "\n"
     ]
    }
   ],
   "source": [
    "\n",
    "'''\n",
    "\n",
    "6.1 设置损失、优化器和评估指标\n",
    "\n",
    "像往常一样，我们将设置一个损失函数、一个优化器和一个评估指标（我们可以执行多个评估指标，但现在我们将坚持准确性）。\n",
    "\n",
    "\n",
    "'''\n",
    "\n",
    "from helper_functions import accuracy_fn\n",
    "loss_fn = nn.CrossEntropyLoss()\n",
    "optimizer = torch.optim.SGD(params=model_1.parameters(), \n",
    "                            lr=0.1)\n",
    "\n",
    "\n",
    "'''\n",
    "6.2 训练和测试循环功能化\n",
    "\n",
    "到目前为止，我们已经一遍又一遍地编写训练和测试循环。\n",
    "\n",
    "让我们再次编写它们，但这次我们将它们放在函数中，以便可以一次又一次地调用它们。\n",
    "\n",
    "因为我们现在使用与设备无关的代码，所以我们一定会在我们的特征（ X ）和目标（ y ）张量上调用.to(device) 。\n",
    "\n",
    "对于训练循环，我们将创建一个名为train_step()的函数，该函数接受模型、 DataLoader损失函数和优化器。\n",
    "\n",
    "测试循环将是类似的，但它将被称为test_step()并且它将接受一个模型、一个DataLoader 、一个损失函数和一个评估函数。\n",
    "\n",
    "注意：由于这些是函数，您可以按照您喜欢的任何方式自定义它们。我们在这里所做的可以被认为是针对我们特定分类用例的准系统训练和测试功能。\n",
    "\n",
    "'''\n",
    "\n",
    "def train_step(model: torch.nn.Module,\n",
    "               data_loader: torch.utils.data.DataLoader,\n",
    "               loss_fn: torch.nn.Module,\n",
    "               optimizer: torch.optim.Optimizer,\n",
    "               accuracy_fn,\n",
    "               device: torch.device = device):\n",
    "    train_loss, train_acc = 0, 0\n",
    "    model.to(device)\n",
    "    for batch, (X, y) in enumerate(data_loader):\n",
    "        # Send data to GPU\n",
    "        X, y = X.to(device), y.to(device)\n",
    "\n",
    "        # 1. Forward pass\n",
    "        y_pred = model(X)\n",
    "\n",
    "        # 2. Calculate loss\n",
    "        loss = loss_fn(y_pred, y)\n",
    "        train_loss += loss\n",
    "        train_acc += accuracy_fn(y_true=y,\n",
    "                                 y_pred=y_pred.argmax(dim=1)) # Go from logits -> pred labels\n",
    "\n",
    "        # 3. Optimizer zero grad\n",
    "        optimizer.zero_grad()\n",
    "\n",
    "        # 4. Loss backward\n",
    "        loss.backward()\n",
    "\n",
    "        # 5. Optimizer step\n",
    "        optimizer.step()\n",
    "\n",
    "    # Calculate loss and accuracy per epoch and print out what's happening\n",
    "    train_loss /= len(data_loader)\n",
    "    train_acc /= len(data_loader)\n",
    "    print(f\"Train loss: {train_loss:.5f} | Train accuracy: {train_acc:.2f}%\")\n",
    "\n",
    "def test_step(data_loader: torch.utils.data.DataLoader,\n",
    "              model: torch.nn.Module,\n",
    "              loss_fn: torch.nn.Module,\n",
    "              accuracy_fn,\n",
    "              device: torch.device = device):\n",
    "    test_loss, test_acc = 0, 0\n",
    "    model.to(device)\n",
    "    model.eval() # put model in eval mode\n",
    "    # Turn on inference context manager\n",
    "    with torch.inference_mode(): \n",
    "        for X, y in data_loader:\n",
    "            # Send data to GPU\n",
    "            X, y = X.to(device), y.to(device)\n",
    "            \n",
    "            # 1. Forward pass\n",
    "            test_pred = model(X)\n",
    "            \n",
    "            # 2. Calculate loss and accuracy\n",
    "            test_loss += loss_fn(test_pred, y)\n",
    "            test_acc += accuracy_fn(y_true=y,\n",
    "                y_pred=test_pred.argmax(dim=1) # Go from logits -> pred labels\n",
    "            )\n",
    "        \n",
    "        # Adjust metrics and print out\n",
    "        test_loss /= len(data_loader)\n",
    "        test_acc /= len(data_loader)\n",
    "        print(f\"Test loss: {test_loss:.5f} | Test accuracy: {test_acc:.2f}%\\n\")\n",
    "\n",
    "\n",
    "'''\n",
    "现在我们已经有了一些用于训练和测试模型的函数，让我们运行它们。\n",
    "\n",
    "注意：您可以自定义执行测试步骤的频率。有时人们每 5 个 epoch 或 10 个 epoch 执行一次，或者在我们的例子中，每个 epoch 执行一次。\n",
    "\n",
    "'''\n",
    "\n",
    "torch.manual_seed(42)\n",
    "\n",
    "# Measure time\n",
    "from timeit import default_timer as timer\n",
    "train_time_start_on_gpu = timer()\n",
    "\n",
    "epochs = 3\n",
    "for epoch in tqdm(range(epochs)):\n",
    "    print(f\"Epoch: {epoch}\\n---------\")\n",
    "    train_step(data_loader=train_dataloader, \n",
    "        model=model_1, \n",
    "        loss_fn=loss_fn,\n",
    "        optimizer=optimizer,\n",
    "        accuracy_fn=accuracy_fn\n",
    "    )\n",
    "    test_step(data_loader=test_dataloader,\n",
    "        model=model_1,\n",
    "        loss_fn=loss_fn,\n",
    "        accuracy_fn=accuracy_fn\n",
    "    )\n",
    "\n",
    "train_time_end_on_gpu = timer()\n",
    "total_train_time_model_1 = print_train_time(start=train_time_start_on_gpu,\n",
    "                                            end=train_time_end_on_gpu,\n",
    "                                            device=device)\n",
    "\n",
    "\n"
   ]
  },
  {
   "cell_type": "code",
   "execution_count": 55,
   "metadata": {},
   "outputs": [
    {
     "ename": "RuntimeError",
     "evalue": "Expected all tensors to be on the same device, but found at least two devices, cuda:0 and cpu! (when checking argument for argument mat1 in method wrapper_CUDA_addmm)",
     "output_type": "error",
     "traceback": [
      "\u001b[0;31m---------------------------------------------------------------------------\u001b[0m",
      "\u001b[0;31mRuntimeError\u001b[0m                              Traceback (most recent call last)",
      "Cell \u001b[0;32mIn[55], line 14\u001b[0m\n\u001b[1;32m     11\u001b[0m torch\u001b[39m.\u001b[39mmanual_seed(\u001b[39m42\u001b[39m)\n\u001b[1;32m     13\u001b[0m \u001b[39m# Note: This will error due to `eval_model()` not using device agnostic code \u001b[39;00m\n\u001b[0;32m---> 14\u001b[0m model_1_results \u001b[39m=\u001b[39m eval_model(model\u001b[39m=\u001b[39;49mmodel_1, \n\u001b[1;32m     15\u001b[0m     data_loader\u001b[39m=\u001b[39;49mtest_dataloader,\n\u001b[1;32m     16\u001b[0m     loss_fn\u001b[39m=\u001b[39;49mloss_fn, \n\u001b[1;32m     17\u001b[0m     accuracy_fn\u001b[39m=\u001b[39;49maccuracy_fn) \n\u001b[1;32m     18\u001b[0m model_1_results \n",
      "Cell \u001b[0;32mIn[51], line 39\u001b[0m, in \u001b[0;36meval_model\u001b[0;34m(model, data_loader, loss_fn, accuracy_fn)\u001b[0m\n\u001b[1;32m     36\u001b[0m \u001b[39mwith\u001b[39;00m torch\u001b[39m.\u001b[39minference_mode():\n\u001b[1;32m     37\u001b[0m     \u001b[39mfor\u001b[39;00m X, y \u001b[39min\u001b[39;00m data_loader:\n\u001b[1;32m     38\u001b[0m         \u001b[39m# Make predictions with the model\u001b[39;00m\n\u001b[0;32m---> 39\u001b[0m         y_pred \u001b[39m=\u001b[39m model(X)\n\u001b[1;32m     41\u001b[0m         \u001b[39m# Accumulate the loss and accuracy values per batch\u001b[39;00m\n\u001b[1;32m     42\u001b[0m         loss \u001b[39m+\u001b[39m\u001b[39m=\u001b[39m loss_fn(y_pred, y)\n",
      "File \u001b[0;32m~/suhao/deep-learning-from-scratch/env_dlfs/lib/python3.10/site-packages/torch/nn/modules/module.py:1553\u001b[0m, in \u001b[0;36mModule._wrapped_call_impl\u001b[0;34m(self, *args, **kwargs)\u001b[0m\n\u001b[1;32m   1551\u001b[0m     \u001b[39mreturn\u001b[39;00m \u001b[39mself\u001b[39m\u001b[39m.\u001b[39m_compiled_call_impl(\u001b[39m*\u001b[39margs, \u001b[39m*\u001b[39m\u001b[39m*\u001b[39mkwargs)  \u001b[39m# type: ignore[misc]\u001b[39;00m\n\u001b[1;32m   1552\u001b[0m \u001b[39melse\u001b[39;00m:\n\u001b[0;32m-> 1553\u001b[0m     \u001b[39mreturn\u001b[39;00m \u001b[39mself\u001b[39;49m\u001b[39m.\u001b[39;49m_call_impl(\u001b[39m*\u001b[39;49margs, \u001b[39m*\u001b[39;49m\u001b[39m*\u001b[39;49mkwargs)\n",
      "File \u001b[0;32m~/suhao/deep-learning-from-scratch/env_dlfs/lib/python3.10/site-packages/torch/nn/modules/module.py:1562\u001b[0m, in \u001b[0;36mModule._call_impl\u001b[0;34m(self, *args, **kwargs)\u001b[0m\n\u001b[1;32m   1557\u001b[0m \u001b[39m# If we don't have any hooks, we want to skip the rest of the logic in\u001b[39;00m\n\u001b[1;32m   1558\u001b[0m \u001b[39m# this function, and just call forward.\u001b[39;00m\n\u001b[1;32m   1559\u001b[0m \u001b[39mif\u001b[39;00m \u001b[39mnot\u001b[39;00m (\u001b[39mself\u001b[39m\u001b[39m.\u001b[39m_backward_hooks \u001b[39mor\u001b[39;00m \u001b[39mself\u001b[39m\u001b[39m.\u001b[39m_backward_pre_hooks \u001b[39mor\u001b[39;00m \u001b[39mself\u001b[39m\u001b[39m.\u001b[39m_forward_hooks \u001b[39mor\u001b[39;00m \u001b[39mself\u001b[39m\u001b[39m.\u001b[39m_forward_pre_hooks\n\u001b[1;32m   1560\u001b[0m         \u001b[39mor\u001b[39;00m _global_backward_pre_hooks \u001b[39mor\u001b[39;00m _global_backward_hooks\n\u001b[1;32m   1561\u001b[0m         \u001b[39mor\u001b[39;00m _global_forward_hooks \u001b[39mor\u001b[39;00m _global_forward_pre_hooks):\n\u001b[0;32m-> 1562\u001b[0m     \u001b[39mreturn\u001b[39;00m forward_call(\u001b[39m*\u001b[39;49margs, \u001b[39m*\u001b[39;49m\u001b[39m*\u001b[39;49mkwargs)\n\u001b[1;32m   1564\u001b[0m \u001b[39mtry\u001b[39;00m:\n\u001b[1;32m   1565\u001b[0m     result \u001b[39m=\u001b[39m \u001b[39mNone\u001b[39;00m\n",
      "Cell \u001b[0;32mIn[53], line 29\u001b[0m, in \u001b[0;36mFashionMNISTModelV1.forward\u001b[0;34m(self, x)\u001b[0m\n\u001b[1;32m     28\u001b[0m \u001b[39mdef\u001b[39;00m \u001b[39mforward\u001b[39m(\u001b[39mself\u001b[39m, x: torch\u001b[39m.\u001b[39mTensor):\n\u001b[0;32m---> 29\u001b[0m     \u001b[39mreturn\u001b[39;00m \u001b[39mself\u001b[39;49m\u001b[39m.\u001b[39;49mlayer_stack(x)\n",
      "File \u001b[0;32m~/suhao/deep-learning-from-scratch/env_dlfs/lib/python3.10/site-packages/torch/nn/modules/module.py:1553\u001b[0m, in \u001b[0;36mModule._wrapped_call_impl\u001b[0;34m(self, *args, **kwargs)\u001b[0m\n\u001b[1;32m   1551\u001b[0m     \u001b[39mreturn\u001b[39;00m \u001b[39mself\u001b[39m\u001b[39m.\u001b[39m_compiled_call_impl(\u001b[39m*\u001b[39margs, \u001b[39m*\u001b[39m\u001b[39m*\u001b[39mkwargs)  \u001b[39m# type: ignore[misc]\u001b[39;00m\n\u001b[1;32m   1552\u001b[0m \u001b[39melse\u001b[39;00m:\n\u001b[0;32m-> 1553\u001b[0m     \u001b[39mreturn\u001b[39;00m \u001b[39mself\u001b[39;49m\u001b[39m.\u001b[39;49m_call_impl(\u001b[39m*\u001b[39;49margs, \u001b[39m*\u001b[39;49m\u001b[39m*\u001b[39;49mkwargs)\n",
      "File \u001b[0;32m~/suhao/deep-learning-from-scratch/env_dlfs/lib/python3.10/site-packages/torch/nn/modules/module.py:1562\u001b[0m, in \u001b[0;36mModule._call_impl\u001b[0;34m(self, *args, **kwargs)\u001b[0m\n\u001b[1;32m   1557\u001b[0m \u001b[39m# If we don't have any hooks, we want to skip the rest of the logic in\u001b[39;00m\n\u001b[1;32m   1558\u001b[0m \u001b[39m# this function, and just call forward.\u001b[39;00m\n\u001b[1;32m   1559\u001b[0m \u001b[39mif\u001b[39;00m \u001b[39mnot\u001b[39;00m (\u001b[39mself\u001b[39m\u001b[39m.\u001b[39m_backward_hooks \u001b[39mor\u001b[39;00m \u001b[39mself\u001b[39m\u001b[39m.\u001b[39m_backward_pre_hooks \u001b[39mor\u001b[39;00m \u001b[39mself\u001b[39m\u001b[39m.\u001b[39m_forward_hooks \u001b[39mor\u001b[39;00m \u001b[39mself\u001b[39m\u001b[39m.\u001b[39m_forward_pre_hooks\n\u001b[1;32m   1560\u001b[0m         \u001b[39mor\u001b[39;00m _global_backward_pre_hooks \u001b[39mor\u001b[39;00m _global_backward_hooks\n\u001b[1;32m   1561\u001b[0m         \u001b[39mor\u001b[39;00m _global_forward_hooks \u001b[39mor\u001b[39;00m _global_forward_pre_hooks):\n\u001b[0;32m-> 1562\u001b[0m     \u001b[39mreturn\u001b[39;00m forward_call(\u001b[39m*\u001b[39;49margs, \u001b[39m*\u001b[39;49m\u001b[39m*\u001b[39;49mkwargs)\n\u001b[1;32m   1564\u001b[0m \u001b[39mtry\u001b[39;00m:\n\u001b[1;32m   1565\u001b[0m     result \u001b[39m=\u001b[39m \u001b[39mNone\u001b[39;00m\n",
      "File \u001b[0;32m~/suhao/deep-learning-from-scratch/env_dlfs/lib/python3.10/site-packages/torch/nn/modules/container.py:219\u001b[0m, in \u001b[0;36mSequential.forward\u001b[0;34m(self, input)\u001b[0m\n\u001b[1;32m    217\u001b[0m \u001b[39mdef\u001b[39;00m \u001b[39mforward\u001b[39m(\u001b[39mself\u001b[39m, \u001b[39minput\u001b[39m):\n\u001b[1;32m    218\u001b[0m     \u001b[39mfor\u001b[39;00m module \u001b[39min\u001b[39;00m \u001b[39mself\u001b[39m:\n\u001b[0;32m--> 219\u001b[0m         \u001b[39minput\u001b[39m \u001b[39m=\u001b[39m module(\u001b[39minput\u001b[39;49m)\n\u001b[1;32m    220\u001b[0m     \u001b[39mreturn\u001b[39;00m \u001b[39minput\u001b[39m\n",
      "File \u001b[0;32m~/suhao/deep-learning-from-scratch/env_dlfs/lib/python3.10/site-packages/torch/nn/modules/module.py:1553\u001b[0m, in \u001b[0;36mModule._wrapped_call_impl\u001b[0;34m(self, *args, **kwargs)\u001b[0m\n\u001b[1;32m   1551\u001b[0m     \u001b[39mreturn\u001b[39;00m \u001b[39mself\u001b[39m\u001b[39m.\u001b[39m_compiled_call_impl(\u001b[39m*\u001b[39margs, \u001b[39m*\u001b[39m\u001b[39m*\u001b[39mkwargs)  \u001b[39m# type: ignore[misc]\u001b[39;00m\n\u001b[1;32m   1552\u001b[0m \u001b[39melse\u001b[39;00m:\n\u001b[0;32m-> 1553\u001b[0m     \u001b[39mreturn\u001b[39;00m \u001b[39mself\u001b[39;49m\u001b[39m.\u001b[39;49m_call_impl(\u001b[39m*\u001b[39;49margs, \u001b[39m*\u001b[39;49m\u001b[39m*\u001b[39;49mkwargs)\n",
      "File \u001b[0;32m~/suhao/deep-learning-from-scratch/env_dlfs/lib/python3.10/site-packages/torch/nn/modules/module.py:1562\u001b[0m, in \u001b[0;36mModule._call_impl\u001b[0;34m(self, *args, **kwargs)\u001b[0m\n\u001b[1;32m   1557\u001b[0m \u001b[39m# If we don't have any hooks, we want to skip the rest of the logic in\u001b[39;00m\n\u001b[1;32m   1558\u001b[0m \u001b[39m# this function, and just call forward.\u001b[39;00m\n\u001b[1;32m   1559\u001b[0m \u001b[39mif\u001b[39;00m \u001b[39mnot\u001b[39;00m (\u001b[39mself\u001b[39m\u001b[39m.\u001b[39m_backward_hooks \u001b[39mor\u001b[39;00m \u001b[39mself\u001b[39m\u001b[39m.\u001b[39m_backward_pre_hooks \u001b[39mor\u001b[39;00m \u001b[39mself\u001b[39m\u001b[39m.\u001b[39m_forward_hooks \u001b[39mor\u001b[39;00m \u001b[39mself\u001b[39m\u001b[39m.\u001b[39m_forward_pre_hooks\n\u001b[1;32m   1560\u001b[0m         \u001b[39mor\u001b[39;00m _global_backward_pre_hooks \u001b[39mor\u001b[39;00m _global_backward_hooks\n\u001b[1;32m   1561\u001b[0m         \u001b[39mor\u001b[39;00m _global_forward_hooks \u001b[39mor\u001b[39;00m _global_forward_pre_hooks):\n\u001b[0;32m-> 1562\u001b[0m     \u001b[39mreturn\u001b[39;00m forward_call(\u001b[39m*\u001b[39;49margs, \u001b[39m*\u001b[39;49m\u001b[39m*\u001b[39;49mkwargs)\n\u001b[1;32m   1564\u001b[0m \u001b[39mtry\u001b[39;00m:\n\u001b[1;32m   1565\u001b[0m     result \u001b[39m=\u001b[39m \u001b[39mNone\u001b[39;00m\n",
      "File \u001b[0;32m~/suhao/deep-learning-from-scratch/env_dlfs/lib/python3.10/site-packages/torch/nn/modules/linear.py:117\u001b[0m, in \u001b[0;36mLinear.forward\u001b[0;34m(self, input)\u001b[0m\n\u001b[1;32m    116\u001b[0m \u001b[39mdef\u001b[39;00m \u001b[39mforward\u001b[39m(\u001b[39mself\u001b[39m, \u001b[39minput\u001b[39m: Tensor) \u001b[39m-\u001b[39m\u001b[39m>\u001b[39m Tensor:\n\u001b[0;32m--> 117\u001b[0m     \u001b[39mreturn\u001b[39;00m F\u001b[39m.\u001b[39;49mlinear(\u001b[39minput\u001b[39;49m, \u001b[39mself\u001b[39;49m\u001b[39m.\u001b[39;49mweight, \u001b[39mself\u001b[39;49m\u001b[39m.\u001b[39;49mbias)\n",
      "\u001b[0;31mRuntimeError\u001b[0m: Expected all tensors to be on the same device, but found at least two devices, cuda:0 and cpu! (when checking argument for argument mat1 in method wrapper_CUDA_addmm)"
     ]
    }
   ],
   "source": [
    "'''\n",
    "\n",
    "问题： “我使用了 GPU，但我的模型训练速度并没有更快，这是为什么呢？”\n",
    "\n",
    "答案：嗯，原因之一可能是因为您的数据集和模型都非常小（就像我们正在使用的数据集和模型），使用 GPU 的好处被实际传输数据所需的时间所抵消。\n",
    "\n",
    "让我们使用eval_model()函数评估经过训练的model_1并看看效果如何。\n",
    "\n",
    "'''\n",
    "\n",
    "torch.manual_seed(42)\n",
    "\n",
    "# Note: This will error due to `eval_model()` not using device agnostic code \n",
    "model_1_results = eval_model(model=model_1, \n",
    "    data_loader=test_dataloader,\n",
    "    loss_fn=loss_fn, \n",
    "    accuracy_fn=accuracy_fn) \n",
    "model_1_results "
   ]
  },
  {
   "cell_type": "code",
   "execution_count": 56,
   "metadata": {},
   "outputs": [
    {
     "data": {
      "text/plain": [
       "{'model_name': 'FashionMNISTModelV1',\n",
       " 'model_loss': 0.6850008964538574,\n",
       " 'model_acc': 75.01996805111821}"
      ]
     },
     "execution_count": 56,
     "metadata": {},
     "output_type": "execute_result"
    }
   ],
   "source": [
    "'''\n",
    "\n",
    "这是因为我们已经将数据和模型设置为使用与设备无关的代码，而不是我们的评估函数。\n",
    "\n",
    "\n",
    "我们如何通过将目标device参数传递给eval_model()函数来解决这个问题？\n",
    "然后我们将尝试再次计算结果。\n",
    "\n",
    "'''\n",
    "# Move values to device\n",
    "torch.manual_seed(42)\n",
    "def eval_model(model: torch.nn.Module, \n",
    "               data_loader: torch.utils.data.DataLoader, \n",
    "               loss_fn: torch.nn.Module, \n",
    "               accuracy_fn, \n",
    "               device: torch.device = device):\n",
    "    \"\"\"Evaluates a given model on a given dataset.\n",
    "\n",
    "    Args:\n",
    "        model (torch.nn.Module): A PyTorch model capable of making predictions on data_loader.\n",
    "        data_loader (torch.utils.data.DataLoader): The target dataset to predict on.\n",
    "        loss_fn (torch.nn.Module): The loss function of model.\n",
    "        accuracy_fn: An accuracy function to compare the models predictions to the truth labels.\n",
    "        device (str, optional): Target device to compute on. Defaults to device.\n",
    "\n",
    "    Returns:\n",
    "        (dict): Results of model making predictions on data_loader.\n",
    "    \"\"\"\n",
    "    loss, acc = 0, 0\n",
    "    model.eval()\n",
    "    with torch.inference_mode():\n",
    "        for X, y in data_loader:\n",
    "            # Send data to the target device\n",
    "            X, y = X.to(device), y.to(device)\n",
    "            y_pred = model(X)\n",
    "            loss += loss_fn(y_pred, y)\n",
    "            acc += accuracy_fn(y_true=y, y_pred=y_pred.argmax(dim=1))\n",
    "        \n",
    "        # Scale loss and acc\n",
    "        loss /= len(data_loader)\n",
    "        acc /= len(data_loader)\n",
    "    return {\"model_name\": model.__class__.__name__, # only works when model was created with a class\n",
    "            \"model_loss\": loss.item(),\n",
    "            \"model_acc\": acc}\n",
    "\n",
    "# Calculate model 1 results with device-agnostic code \n",
    "model_1_results = eval_model(model=model_1, data_loader=test_dataloader,\n",
    "    loss_fn=loss_fn, accuracy_fn=accuracy_fn,\n",
    "    device=device\n",
    ")\n",
    "model_1_results"
   ]
  },
  {
   "cell_type": "code",
   "execution_count": 57,
   "metadata": {},
   "outputs": [
    {
     "data": {
      "text/plain": [
       "FashionMNISTModelV2(\n",
       "  (block_1): Sequential(\n",
       "    (0): Conv2d(1, 10, kernel_size=(3, 3), stride=(1, 1), padding=(1, 1))\n",
       "    (1): ReLU()\n",
       "    (2): Conv2d(10, 10, kernel_size=(3, 3), stride=(1, 1), padding=(1, 1))\n",
       "    (3): ReLU()\n",
       "    (4): MaxPool2d(kernel_size=2, stride=2, padding=0, dilation=1, ceil_mode=False)\n",
       "  )\n",
       "  (block_2): Sequential(\n",
       "    (0): Conv2d(10, 10, kernel_size=(3, 3), stride=(1, 1), padding=(1, 1))\n",
       "    (1): ReLU()\n",
       "    (2): Conv2d(10, 10, kernel_size=(3, 3), stride=(1, 1), padding=(1, 1))\n",
       "    (3): ReLU()\n",
       "    (4): MaxPool2d(kernel_size=2, stride=2, padding=0, dilation=1, ceil_mode=False)\n",
       "  )\n",
       "  (classifier): Sequential(\n",
       "    (0): Flatten(start_dim=1, end_dim=-1)\n",
       "    (1): Linear(in_features=490, out_features=10, bias=True)\n",
       "  )\n",
       ")"
      ]
     },
     "execution_count": 57,
     "metadata": {},
     "output_type": "execute_result"
    }
   ],
   "source": [
    "'''\n",
    "哇哦，在这种情况下，看起来向我们的模型添加非线性使其性能比基线更差。\n",
    "\n",
    "这是机器学习中需要注意的一点，有时你认为应该起作用的东西却不起作用。\n",
    "\n",
    "然后你认为可能行不通的事情就行了。\n",
    "\n",
    "它一半是科学，一半是艺术。\n",
    "\n",
    "从表面上看，我们的模型似乎对训练数据过度拟合。\n",
    "\n",
    "过度拟合意味着我们的模型很好地学习了训练数据，但这些模式无法推广到测试数据。\n",
    "\n",
    "\n",
    "修复过度拟合的两个主要方法包括：\n",
    "\n",
    "1. 使用更小的或不同的模型（某些模型比其他模型更适合某些类型的数据）。\n",
    "2. 使用更大的数据集（数据越多，模型学习可概括模式的机会就越大）。\n",
    "\n",
    "与此同时，让我们看一下第一点：使用不同的模型。\n",
    "\n",
    "\n",
    "7.模型2：构建卷积神经网络（CNN）\n",
    "\n",
    "是时候创建一个卷积神经网络（CNN 或 ConvNet）了。\n",
    "CNN 以其在视觉数据中查找模式的能力而闻名。\n",
    "\n",
    "由于我们正在处理视觉数据，让我们看看使用 CNN 模型是否可以改进我们的基线。\n",
    "\n",
    "我们要使用的 CNN 模型在CNN Expander网站上被称为 TinyVGG。\n",
    "它遵循卷积神经网络的典型结构：\n",
    "\n",
    "内容 [Convolutional layer -> activation layer -> pooling layer] 可以根据要求进行升级和重复多次。\n",
    "\n",
    "我们应该使用什么模型？\n",
    "\n",
    "结构化数据（Excel 电子表格、行和列数据） 梯度提升模型、随机森林、XGBoost     sklearn.ensemble, XGBoost library\n",
    "非结构化数据（图像、音频、语言）         卷积神经网络、Transformers        torchvision.models, HuggingFace Transformers\n",
    "\n",
    "\n",
    "\n",
    "模型的讨论已经够多了，现在让我们构建一个 CNN，复制CNN Expander 网站上的模型。\n",
    "\n",
    "为此，我们将利用torch.nn中的nn.Conv2d()和nn.MaxPool2d()层。\n",
    "\n",
    "''' \n",
    "\n",
    "# Create a convolutional neural network \n",
    "class FashionMNISTModelV2(nn.Module):\n",
    "    \"\"\"\n",
    "    Model architecture copying TinyVGG from: \n",
    "    https://poloclub.github.io/cnn-explainer/\n",
    "    \"\"\"\n",
    "    def __init__(self, input_shape: int, hidden_units: int, output_shape: int):\n",
    "        super().__init__()\n",
    "        self.block_1 = nn.Sequential(\n",
    "            nn.Conv2d(in_channels=input_shape, \n",
    "                      out_channels=hidden_units, \n",
    "                      kernel_size=3, # how big is the square that's going over the image?\n",
    "                      stride=1, # default\n",
    "                      padding=1),# options = \"valid\" (no padding) or \"same\" (output has same shape as input) or int for specific number \n",
    "            nn.ReLU(),\n",
    "            nn.Conv2d(in_channels=hidden_units, \n",
    "                      out_channels=hidden_units,\n",
    "                      kernel_size=3,\n",
    "                      stride=1,\n",
    "                      padding=1),\n",
    "            nn.ReLU(),\n",
    "            nn.MaxPool2d(kernel_size=2,\n",
    "                         stride=2) # default stride value is same as kernel_size\n",
    "        )\n",
    "        self.block_2 = nn.Sequential(\n",
    "            nn.Conv2d(hidden_units, hidden_units, 3, padding=1),\n",
    "            nn.ReLU(),\n",
    "            nn.Conv2d(hidden_units, hidden_units, 3, padding=1),\n",
    "            nn.ReLU(),\n",
    "            nn.MaxPool2d(2)\n",
    "        )\n",
    "        self.classifier = nn.Sequential(\n",
    "            nn.Flatten(),\n",
    "            # Where did this in_features shape come from? \n",
    "            # It's because each layer of our network compresses and changes the shape of our inputs data.\n",
    "            nn.Linear(in_features=hidden_units*7*7, \n",
    "                      out_features=output_shape)\n",
    "        )\n",
    "    \n",
    "    def forward(self, x: torch.Tensor):\n",
    "        x = self.block_1(x)\n",
    "        # print(x.shape)\n",
    "        x = self.block_2(x)\n",
    "        # print(x.shape)\n",
    "        x = self.classifier(x)\n",
    "        # print(x.shape)\n",
    "        return x\n",
    "\n",
    "torch.manual_seed(42)\n",
    "model_2 = FashionMNISTModelV2(input_shape=1, \n",
    "    hidden_units=10, \n",
    "    output_shape=len(class_names)).to(device)\n",
    "model_2\n",
    "\n"
   ]
  },
  {
   "cell_type": "code",
   "execution_count": 58,
   "metadata": {},
   "outputs": [
    {
     "name": "stdout",
     "output_type": "stream",
     "text": [
      "Image batch shape: torch.Size([32, 3, 64, 64]) -> [batch_size, color_channels, height, width]\n",
      "Single image shape: torch.Size([3, 64, 64]) -> [color_channels, height, width]\n",
      "Single image pixel values:\n",
      "tensor([[[ 1.9269,  1.4873,  0.9007,  ...,  1.8446, -1.1845,  1.3835],\n",
      "         [ 1.4451,  0.8564,  2.2181,  ...,  0.3399,  0.7200,  0.4114],\n",
      "         [ 1.9312,  1.0119, -1.4364,  ..., -0.5558,  0.7043,  0.7099],\n",
      "         ...,\n",
      "         [-0.5610, -0.4830,  0.4770,  ..., -0.2713, -0.9537, -0.6737],\n",
      "         [ 0.3076, -0.1277,  0.0366,  ..., -2.0060,  0.2824, -0.8111],\n",
      "         [-1.5486,  0.0485, -0.7712,  ..., -0.1403,  0.9416, -0.0118]],\n",
      "\n",
      "        [[-0.5197,  1.8524,  1.8365,  ...,  0.8935, -1.5114, -0.8515],\n",
      "         [ 2.0818,  1.0677, -1.4277,  ...,  1.6612, -2.6223, -0.4319],\n",
      "         [-0.1010, -0.4388, -1.9775,  ...,  0.2106,  0.2536, -0.7318],\n",
      "         ...,\n",
      "         [ 0.2779,  0.7342, -0.3736,  ..., -0.4601,  0.1815,  0.1850],\n",
      "         [ 0.7205, -0.2833,  0.0937,  ..., -0.1002, -2.3609,  2.2465],\n",
      "         [-1.3242, -0.1973,  0.2920,  ...,  0.5409,  0.6940,  1.8563]],\n",
      "\n",
      "        [[-0.7978,  1.0261,  1.1465,  ...,  1.2134,  0.9354, -0.0780],\n",
      "         [-1.4647, -1.9571,  0.1017,  ..., -1.9986, -0.7409,  0.7011],\n",
      "         [-1.3938,  0.8466, -1.7191,  ..., -1.1867,  0.1320,  0.3407],\n",
      "         ...,\n",
      "         [ 0.8206, -0.3745,  1.2499,  ..., -0.0676,  0.0385,  0.6335],\n",
      "         [-0.5589, -0.3393,  0.2347,  ...,  2.1181,  2.4569,  1.3083],\n",
      "         [-0.4092,  1.5199,  0.2401,  ..., -0.2558,  0.7870,  0.9924]]])\n"
     ]
    }
   ],
   "source": [
    "'''\n",
    "Nice! 好的！\n",
    "\n",
    "我们迄今为止最大的模型！\n",
    "\n",
    "\n",
    "我们所做的是机器学习中的常见做法。\n",
    "\n",
    "Find a model architecture somewhere and replicate it with code.\n",
    "在某处找到模型架构并用代码复制它。\n",
    "\n",
    "7.1 单步执行nn.Conv2d()\n",
    "\n",
    "我们可以开始使用上面的模型，看看会发生什么，但让我们首先了解我们添加的两个新层：\n",
    "\n",
    "\n",
    "nn.Conv2d() ，也称为卷积层。\n",
    "\n",
    "nn.MaxPool2d() ，也称为最大池化层。\n",
    "\n",
    "问题： nn.Conv2d()中的“2d”代表什么？\n",
    "\n",
    "2d 用于二维数据。例如，我们的图像有两个维度：高度和宽度。是的，有颜色通道尺寸，但每个颜色通道尺寸也有两个尺寸：高度和宽度。\n",
    "\n",
    "对于其他维度数据（例如文本的 1D 或 3D 对象的 3D), 还有nn.Conv1d()和nn.Conv3d() 。\n",
    "\n",
    "为了测试各层，让我们创建一些玩具数据，就像 CNNExplainer 上使用的数据一样。\n",
    "'''\n",
    "\n",
    "torch.manual_seed(42)\n",
    "\n",
    "# Create sample batch of random numbers with same size as image batch\n",
    "images = torch.randn(size=(32, 3, 64, 64)) # [batch_size, color_channels, height, width]\n",
    "test_image = images[0] # get a single image for testing\n",
    "print(f\"Image batch shape: {images.shape} -> [batch_size, color_channels, height, width]\")\n",
    "print(f\"Single image shape: {test_image.shape} -> [color_channels, height, width]\") \n",
    "print(f\"Single image pixel values:\\n{test_image}\")\n",
    "\n"
   ]
  },
  {
   "cell_type": "code",
   "execution_count": null,
   "metadata": {},
   "outputs": [],
   "source": [
    "'''\n",
    "让我们创建一个具有各种参数的示例nn.Conv2d() ：\n",
    "\n",
    "\n",
    "in_channels (int)           - 输入图像中的通道数。\n",
    "out_channels (int)          - 卷积产生的通道数。\n",
    "kernel_size (int 或 tuple)  - 卷积内核/过滤器的大小。\n",
    "stride (int 或 tuple, 可选)  - 卷积核一次采取多大的步长。默认值：1。\n",
    "padding (int, tuple, str)   - 添加到输入的所有四个边的填充。默认值：0。\n",
    "\n",
    "'''\n",
    "\n",
    "\n"
   ]
  },
  {
   "attachments": {},
   "cell_type": "markdown",
   "metadata": {},
   "source": [
    "![这是图片](./imgs/03-conv2d-layer.gif \"dims\")"
   ]
  },
  {
   "cell_type": "code",
   "execution_count": 62,
   "metadata": {},
   "outputs": [
    {
     "name": "stdout",
     "output_type": "stream",
     "text": [
      "torch.Size([3, 64, 64])\n",
      "torch.Size([10, 62, 62])\n"
     ]
    }
   ],
   "source": [
    "torch.manual_seed(42)\n",
    "\n",
    "print(test_image.shape)\n",
    "# Create a convolutional layer with same dimensions as TinyVGG \n",
    "# (try changing any of the parameters and see what happens)\n",
    "conv_layer = nn.Conv2d(in_channels=3,\n",
    "                       out_channels=10,\n",
    "                       kernel_size=3,\n",
    "                       stride=1,\n",
    "                       padding=0) # also try using \"valid\" or \"same\" here \n",
    "\n",
    "# Pass the data through the convolutional layer\n",
    "output = conv_layer(test_image) \n",
    "\n",
    "print(output.shape)\n",
    "# Note: If running PyTorch <1.11.0, this will error because of shape \n",
    "# issues (nn.Conv.2d() expects a 4d tensor as input) "
   ]
  },
  {
   "cell_type": "code",
   "execution_count": 64,
   "metadata": {},
   "outputs": [
    {
     "data": {
      "text/plain": [
       "torch.Size([10, 30, 30])"
      ]
     },
     "execution_count": 64,
     "metadata": {},
     "output_type": "execute_result"
    }
   ],
   "source": [
    "'''\n",
    "嗯，注意我们的形状发生了什么（与CNN 解释器上 TinyVGG 第一层的形状相同），我们得到不同的通道大小以及不同的像素大小。\n",
    "\n",
    "如果我们改变conv_layer的值会怎样？\n",
    "\n",
    "'''\n",
    "\n",
    "torch.manual_seed(42)\n",
    "# Create a new conv_layer with different values (try setting these to whatever you like)\n",
    "conv_layer_2 = nn.Conv2d(in_channels=3, # same number of color channels as our input image\n",
    "                         out_channels=10,\n",
    "                         kernel_size=(5, 5), # kernel is usually a square so a tuple also works\n",
    "                         stride=2,\n",
    "                         padding=0)\n",
    "\n",
    "# Pass single image through new conv_layer_2 (this calls nn.Conv2d()'s forward() method on the input)\n",
    "conv_layer_2(test_image).shape\n",
    "\n"
   ]
  },
  {
   "cell_type": "code",
   "execution_count": 65,
   "metadata": {},
   "outputs": [
    {
     "name": "stdout",
     "output_type": "stream",
     "text": [
      "OrderedDict([('weight', tensor([[[[ 0.0883,  0.0958, -0.0271,  0.1061, -0.0253],\n",
      "          [ 0.0233, -0.0562,  0.0678,  0.1018, -0.0847],\n",
      "          [ 0.1004,  0.0216,  0.0853,  0.0156,  0.0557],\n",
      "          [-0.0163,  0.0890,  0.0171, -0.0539,  0.0294],\n",
      "          [-0.0532, -0.0135, -0.0469,  0.0766, -0.0911]],\n",
      "\n",
      "         [[-0.0532, -0.0326, -0.0694,  0.0109, -0.1140],\n",
      "          [ 0.1043, -0.0981,  0.0891,  0.0192, -0.0375],\n",
      "          [ 0.0714,  0.0180,  0.0933,  0.0126, -0.0364],\n",
      "          [ 0.0310, -0.0313,  0.0486,  0.1031,  0.0667],\n",
      "          [-0.0505,  0.0667,  0.0207,  0.0586, -0.0704]],\n",
      "\n",
      "         [[-0.1143, -0.0446, -0.0886,  0.0947,  0.0333],\n",
      "          [ 0.0478,  0.0365, -0.0020,  0.0904, -0.0820],\n",
      "          [ 0.0073, -0.0788,  0.0356, -0.0398,  0.0354],\n",
      "          [-0.0241,  0.0958, -0.0684, -0.0689, -0.0689],\n",
      "          [ 0.1039,  0.0385,  0.1111, -0.0953, -0.1145]]],\n",
      "\n",
      "\n",
      "        [[[-0.0903, -0.0777,  0.0468,  0.0413,  0.0959],\n",
      "          [-0.0596, -0.0787,  0.0613, -0.0467,  0.0701],\n",
      "          [-0.0274,  0.0661, -0.0897, -0.0583,  0.0352],\n",
      "          [ 0.0244, -0.0294,  0.0688,  0.0785, -0.0837],\n",
      "          [-0.0616,  0.1057, -0.0390, -0.0409, -0.1117]],\n",
      "\n",
      "         [[-0.0661,  0.0288, -0.0152, -0.0838,  0.0027],\n",
      "          [-0.0789, -0.0980, -0.0636, -0.1011, -0.0735],\n",
      "          [ 0.1154,  0.0218,  0.0356, -0.1077, -0.0758],\n",
      "          [-0.0384,  0.0181, -0.1016, -0.0498, -0.0691],\n",
      "          [ 0.0003, -0.0430, -0.0080, -0.0782, -0.0793]],\n",
      "\n",
      "         [[-0.0674, -0.0395, -0.0911,  0.0968, -0.0229],\n",
      "          [ 0.0994,  0.0360, -0.0978,  0.0799, -0.0318],\n",
      "          [-0.0443, -0.0958, -0.1148,  0.0330, -0.0252],\n",
      "          [ 0.0450, -0.0948,  0.0857, -0.0848, -0.0199],\n",
      "          [ 0.0241,  0.0596,  0.0932,  0.1052, -0.0916]]],\n",
      "\n",
      "\n",
      "        [[[ 0.0291, -0.0497, -0.0127, -0.0864,  0.1052],\n",
      "          [-0.0847,  0.0617,  0.0406,  0.0375, -0.0624],\n",
      "          [ 0.1050,  0.0254,  0.0149, -0.1018,  0.0485],\n",
      "          [-0.0173, -0.0529,  0.0992,  0.0257, -0.0639],\n",
      "          [-0.0584, -0.0055,  0.0645, -0.0295, -0.0659]],\n",
      "\n",
      "         [[-0.0395, -0.0863,  0.0412,  0.0894, -0.1087],\n",
      "          [ 0.0268,  0.0597,  0.0209, -0.0411,  0.0603],\n",
      "          [ 0.0607,  0.0432, -0.0203, -0.0306,  0.0124],\n",
      "          [-0.0204, -0.0344,  0.0738,  0.0992, -0.0114],\n",
      "          [-0.0259,  0.0017, -0.0069,  0.0278,  0.0324]],\n",
      "\n",
      "         [[-0.1049, -0.0426,  0.0972,  0.0450, -0.0057],\n",
      "          [-0.0696, -0.0706, -0.1034, -0.0376,  0.0390],\n",
      "          [ 0.0736,  0.0533, -0.1021, -0.0694, -0.0182],\n",
      "          [ 0.1117,  0.0167, -0.0299,  0.0478, -0.0440],\n",
      "          [-0.0747,  0.0843, -0.0525, -0.0231, -0.1149]]],\n",
      "\n",
      "\n",
      "        [[[ 0.0773,  0.0875,  0.0421, -0.0805, -0.1140],\n",
      "          [-0.0938,  0.0861,  0.0554,  0.0972,  0.0605],\n",
      "          [ 0.0292, -0.0011, -0.0878, -0.0989, -0.1080],\n",
      "          [ 0.0473, -0.0567, -0.0232, -0.0665, -0.0210],\n",
      "          [-0.0813, -0.0754,  0.0383, -0.0343,  0.0713]],\n",
      "\n",
      "         [[-0.0370, -0.0847, -0.0204, -0.0560, -0.0353],\n",
      "          [-0.1099,  0.0646, -0.0804,  0.0580,  0.0524],\n",
      "          [ 0.0825, -0.0886,  0.0830, -0.0546,  0.0428],\n",
      "          [ 0.1084, -0.0163, -0.0009, -0.0266, -0.0964],\n",
      "          [ 0.0554, -0.1146,  0.0717,  0.0864,  0.1092]],\n",
      "\n",
      "         [[-0.0272, -0.0949,  0.0260,  0.0638, -0.1149],\n",
      "          [-0.0262, -0.0692, -0.0101, -0.0568, -0.0472],\n",
      "          [-0.0367, -0.1097,  0.0947,  0.0968, -0.0181],\n",
      "          [-0.0131, -0.0471, -0.1043, -0.1124,  0.0429],\n",
      "          [-0.0634, -0.0742, -0.0090, -0.0385, -0.0374]]],\n",
      "\n",
      "\n",
      "        [[[ 0.0037, -0.0245, -0.0398, -0.0553, -0.0940],\n",
      "          [ 0.0968, -0.0462,  0.0306, -0.0401,  0.0094],\n",
      "          [ 0.1077,  0.0532, -0.1001,  0.0458,  0.1096],\n",
      "          [ 0.0304,  0.0774,  0.1138, -0.0177,  0.0240],\n",
      "          [-0.0803, -0.0238,  0.0855,  0.0592, -0.0731]],\n",
      "\n",
      "         [[-0.0926, -0.0789, -0.1140, -0.0891, -0.0286],\n",
      "          [ 0.0779,  0.0193, -0.0878, -0.0926,  0.0574],\n",
      "          [-0.0859, -0.0142,  0.0554, -0.0534, -0.0126],\n",
      "          [-0.0101, -0.0273, -0.0585, -0.1029, -0.0933],\n",
      "          [-0.0618,  0.1115, -0.0558, -0.0775,  0.0280]],\n",
      "\n",
      "         [[ 0.0318,  0.0633,  0.0878,  0.0643, -0.1145],\n",
      "          [ 0.0102,  0.0699, -0.0107, -0.0680,  0.1101],\n",
      "          [-0.0432, -0.0657, -0.1041,  0.0052,  0.0512],\n",
      "          [ 0.0256,  0.0228, -0.0876, -0.1078,  0.0020],\n",
      "          [ 0.1053,  0.0666, -0.0672, -0.0150, -0.0851]]],\n",
      "\n",
      "\n",
      "        [[[-0.0557,  0.0209,  0.0629,  0.0957, -0.1060],\n",
      "          [ 0.0772, -0.0814,  0.0432,  0.0977,  0.0016],\n",
      "          [ 0.1051, -0.0984, -0.0441,  0.0673, -0.0252],\n",
      "          [-0.0236, -0.0481,  0.0796,  0.0566,  0.0370],\n",
      "          [-0.0649, -0.0937,  0.0125,  0.0342, -0.0533]],\n",
      "\n",
      "         [[-0.0323,  0.0780,  0.0092,  0.0052, -0.0284],\n",
      "          [-0.1046, -0.1086, -0.0552, -0.0587,  0.0360],\n",
      "          [-0.0336, -0.0452,  0.1101,  0.0402,  0.0823],\n",
      "          [-0.0559, -0.0472,  0.0424, -0.0769, -0.0755],\n",
      "          [-0.0056, -0.0422, -0.0866,  0.0685,  0.0929]],\n",
      "\n",
      "         [[ 0.0187, -0.0201, -0.1070, -0.0421,  0.0294],\n",
      "          [ 0.0544, -0.0146, -0.0457,  0.0643, -0.0920],\n",
      "          [ 0.0730, -0.0448,  0.0018, -0.0228,  0.0140],\n",
      "          [-0.0349,  0.0840, -0.0030,  0.0901,  0.1110],\n",
      "          [-0.0563, -0.0842,  0.0926,  0.0905, -0.0882]]],\n",
      "\n",
      "\n",
      "        [[[-0.0089, -0.1139, -0.0945,  0.0223,  0.0307],\n",
      "          [ 0.0245, -0.0314,  0.1065,  0.0165, -0.0681],\n",
      "          [-0.0065,  0.0277,  0.0404, -0.0816,  0.0433],\n",
      "          [-0.0590, -0.0959, -0.0631,  0.1114,  0.0987],\n",
      "          [ 0.1034,  0.0678,  0.0872, -0.0155, -0.0635]],\n",
      "\n",
      "         [[ 0.0577, -0.0598, -0.0779, -0.0369,  0.0242],\n",
      "          [ 0.0594, -0.0448, -0.0680,  0.0156, -0.0681],\n",
      "          [-0.0752,  0.0602, -0.0194,  0.1055,  0.1123],\n",
      "          [ 0.0345,  0.0397,  0.0266,  0.0018, -0.0084],\n",
      "          [ 0.0016,  0.0431,  0.1074, -0.0299, -0.0488]],\n",
      "\n",
      "         [[-0.0280, -0.0558,  0.0196,  0.0862,  0.0903],\n",
      "          [ 0.0530, -0.0850, -0.0620, -0.0254, -0.0213],\n",
      "          [ 0.0095, -0.1060,  0.0359, -0.0881, -0.0731],\n",
      "          [-0.0960,  0.1006, -0.1093,  0.0871, -0.0039],\n",
      "          [-0.0134,  0.0722, -0.0107,  0.0724,  0.0835]]],\n",
      "\n",
      "\n",
      "        [[[-0.1003,  0.0444,  0.0218,  0.0248,  0.0169],\n",
      "          [ 0.0316, -0.0555, -0.0148,  0.1097,  0.0776],\n",
      "          [-0.0043, -0.1086,  0.0051, -0.0786,  0.0939],\n",
      "          [-0.0701, -0.0083, -0.0256,  0.0205,  0.1087],\n",
      "          [ 0.0110,  0.0669,  0.0896,  0.0932, -0.0399]],\n",
      "\n",
      "         [[-0.0258,  0.0556, -0.0315,  0.0541, -0.0252],\n",
      "          [-0.0783,  0.0470,  0.0177,  0.0515,  0.1147],\n",
      "          [ 0.0788,  0.1095,  0.0062, -0.0993, -0.0810],\n",
      "          [-0.0717, -0.1018, -0.0579, -0.1063, -0.1065],\n",
      "          [-0.0690, -0.1138, -0.0709,  0.0440,  0.0963]],\n",
      "\n",
      "         [[-0.0343, -0.0336,  0.0617, -0.0570, -0.0546],\n",
      "          [ 0.0711, -0.1006,  0.0141,  0.1020,  0.0198],\n",
      "          [ 0.0314, -0.0672, -0.0016,  0.0063,  0.0283],\n",
      "          [ 0.0449,  0.1003, -0.0881,  0.0035, -0.0577],\n",
      "          [-0.0913, -0.0092, -0.1016,  0.0806,  0.0134]]],\n",
      "\n",
      "\n",
      "        [[[-0.0622,  0.0603, -0.1093, -0.0447, -0.0225],\n",
      "          [-0.0981, -0.0734, -0.0188,  0.0876,  0.1115],\n",
      "          [ 0.0735, -0.0689, -0.0755,  0.1008,  0.0408],\n",
      "          [ 0.0031,  0.0156, -0.0928, -0.0386,  0.1112],\n",
      "          [-0.0285, -0.0058, -0.0959, -0.0646, -0.0024]],\n",
      "\n",
      "         [[-0.0717, -0.0143,  0.0470, -0.1130,  0.0343],\n",
      "          [-0.0763, -0.0564,  0.0443,  0.0918, -0.0316],\n",
      "          [-0.0474, -0.1044, -0.0595, -0.1011, -0.0264],\n",
      "          [ 0.0236, -0.1082,  0.1008,  0.0724, -0.1130],\n",
      "          [-0.0552,  0.0377, -0.0237, -0.0126, -0.0521]],\n",
      "\n",
      "         [[ 0.0927, -0.0645,  0.0958,  0.0075,  0.0232],\n",
      "          [ 0.0901, -0.0190, -0.0657, -0.0187,  0.0937],\n",
      "          [-0.0857,  0.0262, -0.1135,  0.0605,  0.0427],\n",
      "          [ 0.0049,  0.0496,  0.0001,  0.0639, -0.0914],\n",
      "          [-0.0170,  0.0512,  0.1150,  0.0588, -0.0840]]],\n",
      "\n",
      "\n",
      "        [[[ 0.0888, -0.0257, -0.0247, -0.1050, -0.0182],\n",
      "          [ 0.0817,  0.0161, -0.0673,  0.0355, -0.0370],\n",
      "          [ 0.1054, -0.1002, -0.0365, -0.1115, -0.0455],\n",
      "          [ 0.0364,  0.1112,  0.0194,  0.1132,  0.0226],\n",
      "          [ 0.0667,  0.0926,  0.0965, -0.0646,  0.1062]],\n",
      "\n",
      "         [[ 0.0699, -0.0540, -0.0551, -0.0969,  0.0290],\n",
      "          [-0.0936,  0.0488,  0.0365, -0.1003,  0.0315],\n",
      "          [-0.0094,  0.0527,  0.0663, -0.1148,  0.1059],\n",
      "          [ 0.0968,  0.0459, -0.1055, -0.0412, -0.0335],\n",
      "          [-0.0297,  0.0651,  0.0420,  0.0915, -0.0432]],\n",
      "\n",
      "         [[ 0.0389,  0.0411, -0.0961, -0.1120, -0.0599],\n",
      "          [ 0.0790, -0.1087, -0.1005,  0.0647,  0.0623],\n",
      "          [ 0.0950, -0.0872, -0.0845,  0.0592,  0.1004],\n",
      "          [ 0.0691,  0.0181,  0.0381,  0.1096, -0.0745],\n",
      "          [-0.0524,  0.0808, -0.0790, -0.0637,  0.0843]]]])), ('bias', tensor([ 0.0364,  0.0373, -0.0489, -0.0016,  0.1057, -0.0693,  0.0009,  0.0549,\n",
      "        -0.0797,  0.1121]))])\n"
     ]
    }
   ],
   "source": [
    "'''\n",
    "\n",
    "\n",
    "哇哦，我们又得到了另一个形状变化。\n",
    "\n",
    "\n",
    "现在我们的图像的形状为[ 10, 30, 30] （如果使用不同的值，它会有所不同）或 [batch_size=1, color_channels=10, height=30, width=30] 。\n",
    "\n",
    "这是怎么回事？\n",
    "\n",
    "在幕后，我们的nn.Conv2d()正在压缩存储在图像中的信息。\n",
    "\n",
    "它通过根据其内部参数对输入（我们的测试图像）执行操作来实现这一点。\n",
    "\n",
    "其目标与我们一直在构建的所有其他神经网络类似。\n",
    "\n",
    "数据进入后，在优化器的帮助下，各层尝试更新其内部参数（模式）以降低损失函数。\n",
    "\n",
    "唯一的区别是不同层如何计算其参数更新，或者用 PyTorch 术语来说，即层的forward()方法中存在的操作。\n",
    "\n",
    "如果我们检查conv_layer_2.state_dict()我们会发现与之前看到的类似的权重和偏差设置。\n",
    "\n",
    "'''\n",
    "# Check out the conv_layer_2 internal parameters\n",
    "print(conv_layer_2.state_dict())"
   ]
  },
  {
   "cell_type": "code",
   "execution_count": 66,
   "metadata": {},
   "outputs": [
    {
     "name": "stdout",
     "output_type": "stream",
     "text": [
      "conv_layer_2 weight shape: \n",
      "torch.Size([10, 3, 5, 5]) -> [out_channels=10, in_channels=3, kernel_size=5, kernel_size=5]\n",
      "\n",
      "conv_layer_2 bias shape: \n",
      "torch.Size([10]) -> [out_channels=10]\n"
     ]
    }
   ],
   "source": [
    "'''\n",
    "\n",
    "Look at that! A bunch of random numbers for a weight and bias tensor.\n",
    "看看那个！权重和偏差张量的一堆随机数。\n",
    "\n",
    "The shapes of these are manipulated by the inputs we passed to nn.Conv2d() when we set it up.\n",
    "它们的形状由我们在设置时传递给nn.Conv2d()的输入来操纵。\n",
    "\n",
    "Let's check them out. 让我们来看看它们。\n",
    "\n",
    "'''\n",
    "# Get shapes of weight and bias tensors within conv_layer_2\n",
    "print(f\"conv_layer_2 weight shape: \\n{conv_layer_2.weight.shape} -> [out_channels=10, in_channels=3, kernel_size=5, kernel_size=5]\")\n",
    "print(f\"\\nconv_layer_2 bias shape: \\n{conv_layer_2.bias.shape} -> [out_channels=10]\")\n"
   ]
  },
  {
   "cell_type": "code",
   "execution_count": 67,
   "metadata": {},
   "outputs": [
    {
     "name": "stdout",
     "output_type": "stream",
     "text": [
      "Test image original shape: torch.Size([3, 64, 64])\n",
      "Test image with unsqueezed dimension: torch.Size([1, 3, 64, 64])\n",
      "Shape after going through conv_layer(): torch.Size([1, 10, 62, 62])\n",
      "Shape after going through conv_layer() and max_pool_layer(): torch.Size([1, 10, 31, 31])\n"
     ]
    }
   ],
   "source": [
    "'''\n",
    "问题：我们应该如何设置nn.Conv2d()层的参数？\n",
    "\n",
    "这是一件好事。但与机器学习中的许多其他事物类似，这些值并不是一成不变的（回想一下，因为这些值是我们可以自己设置的值，所以它们被称为“超参数”）。\n",
    "\n",
    "找出答案的最佳方法是尝试不同的值，看看它们如何影响模型的性能。\n",
    "\n",
    "或者更好的是，找到一个与您的问题类似的工作示例（就像我们对 TinyVGG 所做的那样）并复制它。\n",
    "\n",
    "我们正在使用与我们之前看到的不同的层。\n",
    "\n",
    "\n",
    "但前提仍然是一样的：从随机数开始并更新它们以更好地表示数据。\n",
    "\n",
    "7.2 单步执行nn.MaxPool2d()\n",
    "\n",
    "现在让我们看看当我们通过nn.MaxPool2d()移动数据时会发生什么。\n",
    "\n",
    "\n",
    "'''\n",
    "# Print out original image shape without and with unsqueezed dimension\n",
    "print(f\"Test image original shape: {test_image.shape}\")\n",
    "print(f\"Test image with unsqueezed dimension: {test_image.unsqueeze(dim=0).shape}\")\n",
    "\n",
    "# Create a sample nn.MaxPoo2d() layer\n",
    "max_pool_layer = nn.MaxPool2d(kernel_size=2)\n",
    "\n",
    "# Pass data through just the conv_layer\n",
    "test_image_through_conv = conv_layer(test_image.unsqueeze(dim=0))\n",
    "print(f\"Shape after going through conv_layer(): {test_image_through_conv.shape}\")\n",
    "\n",
    "# Pass data through the max pool layer\n",
    "test_image_through_conv_and_max_pool = max_pool_layer(test_image_through_conv)\n",
    "print(f\"Shape after going through conv_layer() and max_pool_layer(): {test_image_through_conv_and_max_pool.shape}\")"
   ]
  },
  {
   "cell_type": "code",
   "execution_count": 68,
   "metadata": {},
   "outputs": [
    {
     "name": "stdout",
     "output_type": "stream",
     "text": [
      "Random tensor:\n",
      "tensor([[[[0.3367, 0.1288],\n",
      "          [0.2345, 0.2303]]]])\n",
      "Random tensor shape: torch.Size([1, 1, 2, 2])\n",
      "\n",
      "Max pool tensor:\n",
      "tensor([[[[0.3367]]]]) <- this is the maximum value from random_tensor\n",
      "Max pool tensor shape: torch.Size([1, 1, 1, 1])\n"
     ]
    }
   ],
   "source": [
    "'''\n",
    "请注意nn.MaxPool2d()层内外发生的形状变化。\n",
    "\n",
    "nn.MaxPool2d()层的kernel_size将影响输出形状的大小。\n",
    "\n",
    "在我们的例子中，形状从62x62图像减半为31x31图像。\n",
    "\n",
    "让我们用更小的张量来看看这个工作。\n",
    "\n",
    "'''\n",
    "torch.manual_seed(42)\n",
    "# Create a random tensor with a similiar number of dimensions to our images\n",
    "random_tensor = torch.randn(size=(1, 1, 2, 2))\n",
    "print(f\"Random tensor:\\n{random_tensor}\")\n",
    "print(f\"Random tensor shape: {random_tensor.shape}\")\n",
    "\n",
    "# Create a max pool layer\n",
    "max_pool_layer = nn.MaxPool2d(kernel_size=2) # see what happens when you change the kernel_size value \n",
    "\n",
    "# Pass the random tensor through the max pool layer\n",
    "max_pool_tensor = max_pool_layer(random_tensor)\n",
    "print(f\"\\nMax pool tensor:\\n{max_pool_tensor} <- this is the maximum value from random_tensor\")\n",
    "print(f\"Max pool tensor shape: {max_pool_tensor.shape}\")\n"
   ]
  },
  {
   "cell_type": "code",
   "execution_count": 69,
   "metadata": {},
   "outputs": [
    {
     "name": "stderr",
     "output_type": "stream",
     "text": [
      "  0%|          | 0/3 [00:00<?, ?it/s]"
     ]
    },
    {
     "name": "stdout",
     "output_type": "stream",
     "text": [
      "Epoch: 0\n",
      "---------\n",
      "Train loss: 0.59884 | Train accuracy: 78.28%\n"
     ]
    },
    {
     "name": "stderr",
     "output_type": "stream",
     "text": [
      " 33%|███▎      | 1/3 [00:08<00:17,  8.96s/it]"
     ]
    },
    {
     "name": "stdout",
     "output_type": "stream",
     "text": [
      "Test loss: 0.39613 | Test accuracy: 85.86%\n",
      "\n",
      "Epoch: 1\n",
      "---------\n",
      "Train loss: 0.36363 | Train accuracy: 86.92%\n"
     ]
    },
    {
     "name": "stderr",
     "output_type": "stream",
     "text": [
      " 67%|██████▋   | 2/3 [00:17<00:08,  8.84s/it]"
     ]
    },
    {
     "name": "stdout",
     "output_type": "stream",
     "text": [
      "Test loss: 0.34585 | Test accuracy: 87.10%\n",
      "\n",
      "Epoch: 2\n",
      "---------\n",
      "Train loss: 0.32437 | Train accuracy: 88.21%\n"
     ]
    },
    {
     "name": "stderr",
     "output_type": "stream",
     "text": [
      "100%|██████████| 3/3 [00:26<00:00,  8.81s/it]"
     ]
    },
    {
     "name": "stdout",
     "output_type": "stream",
     "text": [
      "Test loss: 0.32221 | Test accuracy: 88.28%\n",
      "\n",
      "Train time on cuda: 26.417 seconds\n"
     ]
    },
    {
     "name": "stderr",
     "output_type": "stream",
     "text": [
      "\n"
     ]
    }
   ],
   "source": [
    "'''\n",
    "7.3 为model_2设置损失函数和优化器\n",
    "\n",
    "我们已经足够了解第一个 CNN 中的各个层了。\n",
    "\n",
    "\n",
    "但请记住，如果仍有不清楚的地方，请尝试从小处开始。\n",
    "\n",
    "\n",
    "选择模型的单个层，通过它传递一些数据，看看会发生什么。\n",
    "\n",
    "\n",
    "现在是时候继续前进并开始训练了！\n",
    "\n",
    "\n",
    "让我们设置一个损失函数和一个优化器。\n",
    "\n",
    "\n",
    "我们将像以前一样使用函数nn.CrossEntropyLoss()作为损失函数（因为我们正在处理多类分类数据）。\n",
    "\n",
    "\n",
    "torch.optim.SGD()作为优化器来优化model_2.parameters()学习率为0.1 。\n",
    "\n",
    "'''\n",
    "# Setup loss and optimizer\n",
    "loss_fn = nn.CrossEntropyLoss()\n",
    "optimizer = torch.optim.SGD(params=model_2.parameters(), \n",
    "                             lr=0.1)\n",
    "\n",
    "\n",
    "'''\n",
    "\n",
    "\n",
    "7.4 使用我们的训练和测试函数训练和测试model_2\n",
    "\n",
    "损失和优化器准备好了！\n",
    "\n",
    "是时候进行训练和测试了。\n",
    "\n",
    "我们将使用之前创建的train_step()和test_step()函数。\n",
    "\n",
    "我们还将测量时间，将其与我们的其他模型进行比较。\n",
    "'''\n",
    "\n",
    "torch.manual_seed(42)\n",
    "\n",
    "# Measure time\n",
    "from timeit import default_timer as timer\n",
    "train_time_start_model_2 = timer()\n",
    "\n",
    "# Train and test model \n",
    "epochs = 3\n",
    "for epoch in tqdm(range(epochs)):\n",
    "    print(f\"Epoch: {epoch}\\n---------\")\n",
    "    train_step(data_loader=train_dataloader, \n",
    "        model=model_2, \n",
    "        loss_fn=loss_fn,\n",
    "        optimizer=optimizer,\n",
    "        accuracy_fn=accuracy_fn,\n",
    "        device=device\n",
    "    )\n",
    "    test_step(data_loader=test_dataloader,\n",
    "        model=model_2,\n",
    "        loss_fn=loss_fn,\n",
    "        accuracy_fn=accuracy_fn,\n",
    "        device=device\n",
    "    )\n",
    "\n",
    "train_time_end_model_2 = timer()\n",
    "total_train_time_model_2 = print_train_time(start=train_time_start_model_2,\n",
    "                                           end=train_time_end_model_2,\n",
    "                                           device=device)\n"
   ]
  },
  {
   "cell_type": "code",
   "execution_count": 70,
   "metadata": {},
   "outputs": [
    {
     "data": {
      "text/plain": [
       "{'model_name': 'FashionMNISTModelV2',\n",
       " 'model_loss': 0.3222130537033081,\n",
       " 'model_acc': 88.27875399361022}"
      ]
     },
     "execution_count": 70,
     "metadata": {},
     "output_type": "execute_result"
    }
   ],
   "source": [
    "'''\n",
    "哇哦！看起来卷积层和最大池化层有助于提高性能。\n",
    "\n",
    "Let's evaluate model_2's results with our eval_model() function.\n",
    "让我们使用eval_model()函数评估model_2的结果。\n",
    "\n",
    "'''\n",
    "# Get model_2 results \n",
    "model_2_results = eval_model(\n",
    "    model=model_2,\n",
    "    data_loader=test_dataloader,\n",
    "    loss_fn=loss_fn,\n",
    "    accuracy_fn=accuracy_fn\n",
    ")\n",
    "model_2_results"
   ]
  },
  {
   "cell_type": "code",
   "execution_count": 71,
   "metadata": {},
   "outputs": [
    {
     "data": {
      "text/html": [
       "<div>\n",
       "<style scoped>\n",
       "    .dataframe tbody tr th:only-of-type {\n",
       "        vertical-align: middle;\n",
       "    }\n",
       "\n",
       "    .dataframe tbody tr th {\n",
       "        vertical-align: top;\n",
       "    }\n",
       "\n",
       "    .dataframe thead th {\n",
       "        text-align: right;\n",
       "    }\n",
       "</style>\n",
       "<table border=\"1\" class=\"dataframe\">\n",
       "  <thead>\n",
       "    <tr style=\"text-align: right;\">\n",
       "      <th></th>\n",
       "      <th>model_name</th>\n",
       "      <th>model_loss</th>\n",
       "      <th>model_acc</th>\n",
       "    </tr>\n",
       "  </thead>\n",
       "  <tbody>\n",
       "    <tr>\n",
       "      <th>0</th>\n",
       "      <td>FashionMNISTModelV0</td>\n",
       "      <td>0.476639</td>\n",
       "      <td>83.426518</td>\n",
       "    </tr>\n",
       "    <tr>\n",
       "      <th>1</th>\n",
       "      <td>FashionMNISTModelV1</td>\n",
       "      <td>0.685001</td>\n",
       "      <td>75.019968</td>\n",
       "    </tr>\n",
       "    <tr>\n",
       "      <th>2</th>\n",
       "      <td>FashionMNISTModelV2</td>\n",
       "      <td>0.322213</td>\n",
       "      <td>88.278754</td>\n",
       "    </tr>\n",
       "  </tbody>\n",
       "</table>\n",
       "</div>"
      ],
      "text/plain": [
       "            model_name  model_loss  model_acc\n",
       "0  FashionMNISTModelV0    0.476639  83.426518\n",
       "1  FashionMNISTModelV1    0.685001  75.019968\n",
       "2  FashionMNISTModelV2    0.322213  88.278754"
      ]
     },
     "execution_count": 71,
     "metadata": {},
     "output_type": "execute_result"
    }
   ],
   "source": [
    "'''\n",
    "8. 比较模型结果和训练时间\n",
    "\n",
    "我们训练了三种不同的模型。\n",
    "\n",
    "1. model_0 - 我们的基线模型有两个nn.Linear()层。\n",
    "2. model_1 - 与我们的基线模型相同的设置, 除了nn.Linear()层之间有nn.ReLU()层。\n",
    "3. model_2 - 我们的第一个 CNN 模型，模仿 CNN 解释器网站上的 TinyVGG 架构。\n",
    "\n",
    "\n",
    "这是机器学习中的常规做法。\n",
    "\n",
    "Building multiple models and performing multiple training experiments to see which performs best.\n",
    "构建多个模型并执行多个训练实验，看看哪个模型表现最好。\n",
    "\n",
    "Let's combine our model results dictionaries into a DataFrame and find out.\n",
    "让我们将模型结果字典合并到 DataFrame 中并找出答案。\n",
    "\n",
    "\n",
    "'''\n",
    "\n",
    "import pandas as pd\n",
    "compare_results = pd.DataFrame([model_0_results, model_1_results, model_2_results])\n",
    "compare_results\n",
    "\n"
   ]
  },
  {
   "cell_type": "code",
   "execution_count": 72,
   "metadata": {},
   "outputs": [
    {
     "data": {
      "text/html": [
       "<div>\n",
       "<style scoped>\n",
       "    .dataframe tbody tr th:only-of-type {\n",
       "        vertical-align: middle;\n",
       "    }\n",
       "\n",
       "    .dataframe tbody tr th {\n",
       "        vertical-align: top;\n",
       "    }\n",
       "\n",
       "    .dataframe thead th {\n",
       "        text-align: right;\n",
       "    }\n",
       "</style>\n",
       "<table border=\"1\" class=\"dataframe\">\n",
       "  <thead>\n",
       "    <tr style=\"text-align: right;\">\n",
       "      <th></th>\n",
       "      <th>model_name</th>\n",
       "      <th>model_loss</th>\n",
       "      <th>model_acc</th>\n",
       "      <th>training_time</th>\n",
       "    </tr>\n",
       "  </thead>\n",
       "  <tbody>\n",
       "    <tr>\n",
       "      <th>0</th>\n",
       "      <td>FashionMNISTModelV0</td>\n",
       "      <td>0.476639</td>\n",
       "      <td>83.426518</td>\n",
       "      <td>25.054573</td>\n",
       "    </tr>\n",
       "    <tr>\n",
       "      <th>1</th>\n",
       "      <td>FashionMNISTModelV1</td>\n",
       "      <td>0.685001</td>\n",
       "      <td>75.019968</td>\n",
       "      <td>22.104964</td>\n",
       "    </tr>\n",
       "    <tr>\n",
       "      <th>2</th>\n",
       "      <td>FashionMNISTModelV2</td>\n",
       "      <td>0.322213</td>\n",
       "      <td>88.278754</td>\n",
       "      <td>26.416849</td>\n",
       "    </tr>\n",
       "  </tbody>\n",
       "</table>\n",
       "</div>"
      ],
      "text/plain": [
       "            model_name  model_loss  model_acc  training_time\n",
       "0  FashionMNISTModelV0    0.476639  83.426518      25.054573\n",
       "1  FashionMNISTModelV1    0.685001  75.019968      22.104964\n",
       "2  FashionMNISTModelV2    0.322213  88.278754      26.416849"
      ]
     },
     "execution_count": 72,
     "metadata": {},
     "output_type": "execute_result"
    }
   ],
   "source": [
    "'''\n",
    "我们也可以添加训练时间值。\n",
    "\n",
    "'''\n",
    "\n",
    "# Add training times to results comparison\n",
    "compare_results[\"training_time\"] = [total_train_time_model_0,\n",
    "                                    total_train_time_model_1,\n",
    "                                    total_train_time_model_2]\n",
    "compare_results"
   ]
  },
  {
   "cell_type": "code",
   "execution_count": 77,
   "metadata": {},
   "outputs": [
    {
     "data": {
      "image/png": "[encoded data removed]",
      "text/plain": [
       "<Figure size 640x480 with 1 Axes>"
      ]
     },
     "metadata": {},
     "output_type": "display_data"
    }
   ],
   "source": [
    "'''\n",
    "\n",
    "看起来我们的 CNN ( FashionMNISTModelV2 ) 模型表现最好（损失最低，准确率最高），但训练时间最长。\n",
    "\n",
    "我们的基线模型 ( FashionMNISTModelV0 ) 的表现优于model_1 ( FashionMNISTModelV1 )。\n",
    "\n",
    "性能与速度的权衡\n",
    "\n",
    "在机器学习中需要注意的是性能与速度的权衡。\n",
    "一般来说，您可以从更大、更复杂的模型中获得更好的性能（就像我们对model_2所做的那样）。\n",
    "\n",
    "然而，这种性能提升通常是以牺牲训练速度和推理速度为代价的。\n",
    "\n",
    "注意：您获得的训练时间很大程度上取决于您使用的硬件。\n",
    "\n",
    "一般来说，CPU 核心越多，模型在 CPU 上训练的速度就越快。 GPU 也类似。\n",
    "\n",
    "由于技术进步，较新的硬件（就使用年限而言）通常也会更快地训练模型。\n",
    "\n",
    "'''\n",
    "\n",
    "# Visualize our model results\n",
    "compare_results.set_index(\"model_name\")[\"model_acc\"].plot(kind=\"barh\")\n",
    "plt.xlabel(\"accuracy (%)\")\n",
    "plt.ylabel(\"model\");"
   ]
  },
  {
   "cell_type": "code",
   "execution_count": 84,
   "metadata": {},
   "outputs": [
    {
     "name": "stdout",
     "output_type": "stream",
     "text": [
      "suhao test_data type is <class 'torchvision.datasets.mnist.FashionMNIST'>\n",
      "Test sample image shape: torch.Size([1, 28, 28])\n",
      "Test sample label: 5 (Sandal)\n"
     ]
    }
   ],
   "source": [
    "'''\n",
    "\n",
    "9. 使用最佳模型进行随机预测并进行评估\n",
    "\n",
    "好吧，我们已经对模型进行了相互比较，让我们进一步评估性能最佳的模型model_2 。\n",
    "\n",
    "为此，我们创建一个函数make_predictions() ，我们可以在其中传递模型和一些数据以供其预测。\n",
    "\n",
    "\n",
    "'''\n",
    "\n",
    "def make_predictions(model: torch.nn.Module, data: list, device: torch.device = device):\n",
    "    pred_probs = []\n",
    "    model.eval()\n",
    "    with torch.inference_mode():\n",
    "        for sample in data:\n",
    "            # Prepare sample\n",
    "            sample = torch.unsqueeze(sample, dim=0).to(device) # Add an extra dimension and send sample to device\n",
    "\n",
    "            # Forward pass (model outputs raw logit)\n",
    "            pred_logit = model(sample)\n",
    "\n",
    "            # Get prediction probability (logit -> prediction probability)\n",
    "            pred_prob = torch.softmax(pred_logit.squeeze(), dim=0) # note: perform softmax on the \"logits\" dimension, not \"batch\" dimension (in this case we have a batch size of 1, so can perform on dim=0)\n",
    "\n",
    "            # Get pred_prob off GPU for further calculations\n",
    "            pred_probs.append(pred_prob.cpu())\n",
    "            \n",
    "    # Stack the pred_probs to turn list into a tensor\n",
    "    return torch.stack(pred_probs)\n",
    "\n",
    "\n",
    "print(f\"suhao test_data type is {type(test_data)}\")\n",
    "\n",
    "listT = list(test_data)\n",
    "\n",
    "# 将 test_data 转换为 [ (tensor, 1), (tensor, 2), (tensor, 3) ], 这样的列表\n",
    "\n",
    "# print(listT[:3])\n",
    "\n",
    "\n",
    "import random\n",
    "random.seed(42)\n",
    "test_samples = []\n",
    "test_labels = []\n",
    "for sample, label in random.sample(list(test_data), k=9):\n",
    "    test_samples.append(sample)\n",
    "    test_labels.append(label)\n",
    "\n",
    "# View the first test sample shape and label\n",
    "print(f\"Test sample image shape: {test_samples[0].shape}\\nTest sample label: {test_labels[0]} ({class_names[test_labels[0]]})\")\n",
    "\n"
   ]
  },
  {
   "cell_type": "code",
   "execution_count": 86,
   "metadata": {},
   "outputs": [
    {
     "data": {
      "text/plain": [
       "tensor([[1.4215e-07, 9.9524e-08, 1.2408e-07, 1.6877e-07, 2.5299e-08, 9.9987e-01,\n",
       "         5.7745e-07, 2.7996e-05, 1.9899e-05, 7.6513e-05],\n",
       "        [6.9498e-02, 3.6531e-01, 1.6133e-03, 1.7368e-01, 1.1677e-01, 1.3323e-04,\n",
       "         2.7119e-01, 9.2392e-04, 4.7056e-04, 4.1897e-04]])"
      ]
     },
     "execution_count": 86,
     "metadata": {},
     "output_type": "execute_result"
    }
   ],
   "source": [
    "'''\n",
    "现在我们可以通过使用torch.softmax()激活函数的输出的torch.argmax()从预测概率到预测标签。\n",
    "\n",
    "'''\n",
    "\n",
    "# Make predictions on test samples with model 2\n",
    "pred_probs= make_predictions(model=model_2, \n",
    "                             data=test_samples)\n",
    "\n",
    "# View first two prediction probabilities list\n",
    "pred_probs[:2]\n",
    "\n",
    "\n"
   ]
  },
  {
   "cell_type": "code",
   "execution_count": 87,
   "metadata": {},
   "outputs": [
    {
     "data": {
      "text/plain": [
       "tensor([5, 1, 7, 4, 3, 0, 4, 7, 1])"
      ]
     },
     "execution_count": 87,
     "metadata": {},
     "output_type": "execute_result"
    }
   ],
   "source": [
    "'''.YTFec,\n",
    "\n",
    "\n",
    "'''\n",
    "\n",
    "\n",
    "# Turn the prediction probabilities into prediction labels by taking the argmax()\n",
    "pred_classes = pred_probs.argmax(dim=1)\n",
    "pred_classes"
   ]
  },
  {
   "cell_type": "code",
   "execution_count": 93,
   "metadata": {},
   "outputs": [
    {
     "data": {
      "text/plain": [
       "([5, 1, 7, 4, 3, 0, 4, 7, 1], tensor([5, 1, 7, 4, 3, 0, 4, 7, 1]))"
      ]
     },
     "execution_count": 93,
     "metadata": {},
     "output_type": "execute_result"
    }
   ],
   "source": [
    "'''\n",
    "\n",
    "\n",
    "'''\n",
    "# Are our predictions in the same form as our test labels? \n",
    "test_labels, pred_classes"
   ]
  },
  {
   "cell_type": "code",
   "execution_count": 94,
   "metadata": {},
   "outputs": [
    {
     "data": {
      "image/png": "[encoded data removed]",
      "text/plain": [
       "<Figure size 900x900 with 9 Axes>"
      ]
     },
     "metadata": {},
     "output_type": "display_data"
    }
   ],
   "source": [
    "'''\n",
    "可视化\n",
    "\n",
    "'''\n",
    "\n",
    "# Plot predictions\n",
    "plt.figure(figsize=(9, 9))\n",
    "nrows = 3\n",
    "ncols = 3\n",
    "for i, sample in enumerate(test_samples):\n",
    "  # Create a subplot\n",
    "  plt.subplot(nrows, ncols, i+1)\n",
    "\n",
    "  # Plot the target image\n",
    "  plt.imshow(sample.squeeze(), cmap=\"gray\")\n",
    "\n",
    "  # Find the prediction label (in text form, e.g. \"Sandal\")\n",
    "  pred_label = class_names[pred_classes[i]]\n",
    "\n",
    "  # Get the truth label (in text form, e.g. \"T-shirt\")\n",
    "  truth_label = class_names[test_labels[i]] \n",
    "\n",
    "  # Create the title text of the plot\n",
    "  title_text = f\"Pred: {pred_label} | Truth: {truth_label}\"\n",
    "  \n",
    "  # Check for equality and change title colour accordingly\n",
    "  if pred_label == truth_label:\n",
    "      plt.title(title_text, fontsize=10, c=\"g\") # green text if correct\n",
    "  else:\n",
    "      plt.title(title_text, fontsize=10, c=\"r\") # red text if wrong\n",
    "  plt.axis(False);"
   ]
  },
  {
   "cell_type": "code",
   "execution_count": 95,
   "metadata": {},
   "outputs": [
    {
     "name": "stderr",
     "output_type": "stream",
     "text": [
      "Making predictions: 100%|██████████| 313/313 [00:01<00:00, 300.62it/s]\n"
     ]
    }
   ],
   "source": [
    "'''\n",
    "10. 制作混淆矩阵以进行进一步的预测评估\n",
    "\n",
    "我们可以使用许多不同的评估指标来解决分类问题。\n",
    "\n",
    "One of the most visual is a confusion matrix.\n",
    "最直观的之一是混淆矩阵。\n",
    "\n",
    "A confusion matrix shows you where your classification model got confused between predicitons and true labels.\n",
    "混淆矩阵向您显示分类模型在预测和真实标签之间发生混淆的位置。\n",
    "\n",
    "To make a confusion matrix, we'll go through three steps:\n",
    "为了制作混淆矩阵，我们将完成三个步骤：\n",
    "\n",
    "Make predictions with our trained model, model_2 (a confusion matrix compares predictions to true labels).\n",
    "使用我们训练的模型model_2进行预测（混淆矩阵将预测与真实标签进行比较）。\n",
    "Make a confusion matrix using torchmetrics.ConfusionMatrix.\n",
    "使用torchmetrics.ConfusionMatrix制作混淆矩阵。\n",
    "Plot the confusion matrix using mlxtend.plotting.plot_confusion_matrix().\n",
    "使用绘制混淆矩阵。\n",
    "Let's start by making predictions with our trained model.\n",
    "让我们首先使用经过训练的模型进行预测。\n",
    "\n",
    "'''\n",
    "\n",
    "# Import tqdm for progress bar\n",
    "from tqdm.auto import tqdm\n",
    "\n",
    "# 1. Make predictions with trained model\n",
    "y_preds = []\n",
    "model_2.eval()\n",
    "with torch.inference_mode():\n",
    "  for X, y in tqdm(test_dataloader, desc=\"Making predictions\"):\n",
    "    # Send data and targets to target device\n",
    "    X, y = X.to(device), y.to(device)\n",
    "    # Do the forward pass\n",
    "    y_logit = model_2(X)\n",
    "    # Turn predictions from logits -> prediction probabilities -> predictions labels\n",
    "    y_pred = torch.softmax(y_logit, dim=1).argmax(dim=1) # note: perform softmax on the \"logits\" dimension, not \"batch\" dimension (in this case we have a batch size of 32, so can perform on dim=1)\n",
    "    # Put predictions on CPU for evaluation\n",
    "    y_preds.append(y_pred.cpu())\n",
    "# Concatenate list of predictions into a tensor\n",
    "y_pred_tensor = torch.cat(y_preds)"
   ]
  },
  {
   "cell_type": "code",
   "execution_count": 97,
   "metadata": {},
   "outputs": [
    {
     "name": "stdout",
     "output_type": "stream",
     "text": [
      "0.23.1\n"
     ]
    }
   ],
   "source": [
    "'''\n",
    "Wonderful! 精彩的！\n",
    "\n",
    "\n",
    "现在我们已经有了预测，让我们完成步骤 2 和 3： \n",
    "\n",
    "2. 使用torchmetrics.ConfusionMatrix制作混淆矩阵。 \n",
    "3. 使用以下命令绘制混淆矩阵。\n",
    "\n",
    "首先，我们需要确保安装了 torchmetrics 和 mlxtend （这两个库将帮助我们制作和可视化混淆矩阵）。\n",
    "\n",
    "\n",
    "注意：如果您使用的是 Google Colab，则安装的mlxtend默认版本为 0.14.0（截至 2022 年 3 月），但是，对于我们要使用的plot_confusion_matrix()函数的参数，我们需要 0.19.0 或更高。\n",
    "\n",
    "'''\n",
    "\n",
    "# Import mlxtend upgraded version\n",
    "import mlxtend \n",
    "print(mlxtend.__version__)\n",
    "assert int(mlxtend.__version__.split(\".\")[1]) >= 19 # should be version 0.19.0 or higher\n"
   ]
  },
  {
   "cell_type": "code",
   "execution_count": 104,
   "metadata": {},
   "outputs": [
    {
     "data": {
      "image/png": "[encoded data removed]",
      "text/plain": [
       "<Figure size 1000x700 with 1 Axes>"
      ]
     },
     "metadata": {},
     "output_type": "display_data"
    }
   ],
   "source": [
    "'''\n",
    "\n",
    "torchmetrics and mlxtend installed, let's make a confusion matrix!\n",
    "安装了torchmetrics和mlxtend ，让我们制作一个混淆矩阵！\n",
    "\n",
    "First we'll create a torchmetrics.ConfusionMatrix instance telling it how many classes we're dealing with by setting num_classes=len(class_names).\n",
    "首先，我们将创建一个torchmetrics.ConfusionMatrix 实例，通过设置num_classes=len(class_names)告诉它我们正在处理多少个类。\n",
    "\n",
    "Then we'll create a confusion matrix (in tensor format) by passing our instance our model's predictions (preds=y_pred_tensor) and targets (target=test_data.targets).\n",
    "然后，我们将通过向实例传递模型的预测 ( preds=y_pred_tensor ) 和目标 ( target=test_data.targets ) 来创建混淆矩阵（张量格式）。\n",
    "\n",
    "Finally we can plot our confision matrix using the plot_confusion_matrix() function from mlxtend.plotting.\n",
    "最后，我们可以使用mlxtend.plotting中的plot_confusion_matrix()函数绘制我们的混淆矩阵。\n",
    "\n",
    "'''\n",
    "\n",
    "from torchmetrics import ConfusionMatrix\n",
    "from mlxtend.plotting import plot_confusion_matrix\n",
    "\n",
    "# 2. Setup confusion matrix instance and compare predictions to targets\n",
    "confmat = ConfusionMatrix(num_classes=len(class_names), task='multiclass')\n",
    "confmat_tensor = confmat(preds=y_pred_tensor,\n",
    "                         target=test_data.targets)\n",
    "\n",
    "# 3. Plot the confusion matrix\n",
    "fig, ax = plot_confusion_matrix(\n",
    "    conf_mat=confmat_tensor.numpy(), # matplotlib likes working with NumPy \n",
    "    class_names=class_names, # turn the row and column labels into class names\n",
    "    figsize=(10, 7)\n",
    ");"
   ]
  },
  {
   "cell_type": "code",
   "execution_count": 99,
   "metadata": {},
   "outputs": [
    {
     "data": {
      "text/plain": [
       "'\\n\\n\\n'"
      ]
     },
     "execution_count": 99,
     "metadata": {},
     "output_type": "execute_result"
    }
   ],
   "source": [
    "'''\n",
    "\n",
    "Woah! Doesn't that look good?\n",
    "哇哦！看起来不是很好吗？\n",
    "\n",
    "We can see our model does fairly well since most of the dark squares are down the diagonal from top left to bottom right (and ideal model will have only values in these squares and 0 everywhere else).\n",
    "我们可以看到我们的模型表现得相当好，因为大多数黑色方块都位于从左上角到右下角的对角线下方（理想模型只有这些方块中的值，其他地方都为 0）。\n",
    "\n",
    "The model gets most \"confused\" on classes that are similar, for example predicting \"Pullover\" for images that are actually labelled \"Shirt\".\n",
    "该模型在相似的类上最为“困惑”，例如为实际标记为“衬衫”的图像预测“套头衫”。\n",
    "\n",
    "And the same for predicting \"Shirt\" for classes that are actually labelled \"T-shirt/top\".\n",
    "对于实际标记为“T 恤/上衣”的类，预测“衬衫”也是如此。\n",
    "\n",
    "This kind of information is often more helpful than a single accuracy metric because it tells use where a model is getting things wrong.\n",
    "此类信息通常比单个准确度指标更有帮助，因为它可以告诉用户模型在哪里出错。\n",
    "\n",
    "It also hints at why the model may be getting certain things wrong.\n",
    "它还暗示了为什么模型可能会出现某些错误。\n",
    "\n",
    "It's understandable the model sometimes predicts \"Shirt\" for images labelled \"T-shirt/top\".\n",
    "模型有时会为标记为“T 恤/上衣”的图像预测“衬衫”，这是可以理解的。\n",
    "\n",
    "We can use this kind of information to further inspect our models and data to see how it could be improved.\n",
    "我们可以使用此类信息来进一步检查我们的模型和数据，以了解如何改进它。\n",
    "\n",
    "'''"
   ]
  },
  {
   "cell_type": "code",
   "execution_count": 105,
   "metadata": {},
   "outputs": [
    {
     "name": "stdout",
     "output_type": "stream",
     "text": [
      "Saving model to: models/03_pytorch_computer_vision_model_2.pth\n"
     ]
    }
   ],
   "source": [
    "'''\n",
    "\n",
    "11.保存并加载最佳性能模型\n",
    "\n",
    "让我们通过保存和加载我们性能最佳的模型来结束本节。\n",
    "\n",
    "\n",
    "回想笔记本 01，我们可以使用以下组合来保存和加载 PyTorch 模型：\n",
    "\n",
    "\n",
    "torch.save - 保存整个 PyTorch 模型或模型的state_dict()的函数。\n",
    "\n",
    "torch.load - 加载已保存的 PyTorch 对象的函数。\n",
    "\n",
    "torch.nn.Module.load_state_dict() - 将保存的state_dict()加载到现有模型实例中的函数。\n",
    "\n",
    "您可以在PyTorch 保存和加载模型文档中了解这三者的更多信息。\n",
    "\n",
    "\n",
    "现在，让我们保存model_2 的 state_dict() 然后将其加载回来并对其进行评估以确保保存和加载正确。\n",
    "\n",
    "\n",
    "\n",
    "'''\n",
    "\n",
    "from pathlib import Path\n",
    "\n",
    "# Create models directory (if it doesn't already exist), see: https://docs.python.org/3/library/pathlib.html#pathlib.Path.mkdir\n",
    "MODEL_PATH = Path(\"models\")\n",
    "MODEL_PATH.mkdir(parents=True, # create parent directories if needed\n",
    "                 exist_ok=True # if models directory already exists, don't error\n",
    ")\n",
    "\n",
    "# Create model save path\n",
    "MODEL_NAME = \"03_pytorch_computer_vision_model_2.pth\"\n",
    "MODEL_SAVE_PATH = MODEL_PATH / MODEL_NAME\n",
    "\n",
    "# Save the model state dict\n",
    "print(f\"Saving model to: {MODEL_SAVE_PATH}\")\n",
    "torch.save(obj=model_2.state_dict(), # only saving the state_dict() only saves the learned parameters\n",
    "           f=MODEL_SAVE_PATH)\n",
    "\n"
   ]
  },
  {
   "cell_type": "code",
   "execution_count": 106,
   "metadata": {},
   "outputs": [
    {
     "name": "stderr",
     "output_type": "stream",
     "text": [
      "/tmp/ipykernel_2865305/3681853366.py:16: FutureWarning: You are using `torch.load` with `weights_only=False` (the current default value), which uses the default pickle module implicitly. It is possible to construct malicious pickle data which will execute arbitrary code during unpickling (See https://github.com/pytorch/pytorch/blob/main/SECURITY.md#untrusted-models for more details). In a future release, the default value for `weights_only` will be flipped to `True`. This limits the functions that could be executed during unpickling. Arbitrary objects will no longer be allowed to be loaded via this mode unless they are explicitly allowlisted by the user via `torch.serialization.add_safe_globals`. We recommend you start setting `weights_only=True` for any use case where you don't have full control of the loaded file. Please open an issue on GitHub for any issues related to this experimental feature.\n",
      "  loaded_model_2.load_state_dict(torch.load(f=MODEL_SAVE_PATH))\n"
     ]
    }
   ],
   "source": [
    "'''\n",
    "现在我们已经保存了模型state_dict()我们可以使用load_state_dict()和torch.load()的组合将其加载回来。\n",
    "\n",
    "Since we're using load_state_dict(), we'll need to create a new instance of FashionMNISTModelV2() with the same input parameters as our saved model state_dict().\n",
    "由于我们使用的是 load_state_dict() ，因此我们需要使用与保存的模型 state_dict() 相同的输入参数创建FashionMNISTModelV2()的新实例。\n",
    "\n",
    "'''\n",
    "\n",
    "# Create a new instance of FashionMNISTModelV2 (the same class as our saved state_dict())\n",
    "# Note: loading model will error if the shapes here aren't the same as the saved version\n",
    "loaded_model_2 = FashionMNISTModelV2(input_shape=1, \n",
    "                                    hidden_units=10, # try changing this to 128 and seeing what happens \n",
    "                                    output_shape=10) \n",
    "\n",
    "# Load in the saved state_dict()\n",
    "loaded_model_2.load_state_dict(torch.load(f=MODEL_SAVE_PATH))\n",
    "\n",
    "# Send model to GPU\n",
    "loaded_model_2 = loaded_model_2.to(device)\n"
   ]
  },
  {
   "cell_type": "code",
   "execution_count": 107,
   "metadata": {},
   "outputs": [
    {
     "data": {
      "text/plain": [
       "{'model_name': 'FashionMNISTModelV2',\n",
       " 'model_loss': 0.3222130537033081,\n",
       " 'model_acc': 88.27875399361022}"
      ]
     },
     "execution_count": 107,
     "metadata": {},
     "output_type": "execute_result"
    }
   ],
   "source": [
    "'''\n",
    "现在我们已经加载了模型，我们可以使用eval_model()对其进行评估，以确保其参数在保存之前与model_2类似。\n",
    "\n",
    "'''\n",
    "\n",
    "\n",
    "# Evaluate loaded model\n",
    "torch.manual_seed(42)\n",
    "\n",
    "loaded_model_2_results = eval_model(\n",
    "    model=loaded_model_2,\n",
    "    data_loader=test_dataloader,\n",
    "    loss_fn=loss_fn, \n",
    "    accuracy_fn=accuracy_fn\n",
    ")\n",
    "\n",
    "loaded_model_2_results"
   ]
  },
  {
   "cell_type": "code",
   "execution_count": 108,
   "metadata": {},
   "outputs": [
    {
     "data": {
      "text/plain": [
       "{'model_name': 'FashionMNISTModelV2',\n",
       " 'model_loss': 0.3222130537033081,\n",
       " 'model_acc': 88.27875399361022}"
      ]
     },
     "execution_count": 108,
     "metadata": {},
     "output_type": "execute_result"
    }
   ],
   "source": [
    "'''\n",
    "这些结果看起来与model_2_results相同吗？\n",
    "\n",
    "'''\n",
    "\n",
    "model_2_results"
   ]
  },
  {
   "cell_type": "code",
   "execution_count": 109,
   "metadata": {},
   "outputs": [
    {
     "data": {
      "text/plain": [
       "tensor(True)"
      ]
     },
     "execution_count": 109,
     "metadata": {},
     "output_type": "execute_result"
    }
   ],
   "source": [
    "'''\n",
    "我们可以使用torch.isclose()找出两个张量是否彼此接近，并通过参数atol （绝对容差）和rtol （相对容差）传入接近的容差级别。\n",
    "\n",
    "If our model's results are close, the output of torch.isclose() should be true.\n",
    "如果我们的模型的结果很接近， torch.isclose()的输出应该为 true。\n",
    "\n",
    "'''\n",
    "\n",
    "# Check to see if results are close to each other (if they are very far away, there may be an error)\n",
    "torch.isclose(torch.tensor(model_2_results[\"model_loss\"]), \n",
    "              torch.tensor(loaded_model_2_results[\"model_loss\"]),\n",
    "              atol=1e-08, # absolute tolerance\n",
    "              rtol=0.0001) # relative tolerance\n"
   ]
  },
  {
   "cell_type": "code",
   "execution_count": 110,
   "metadata": {},
   "outputs": [
    {
     "data": {
      "text/plain": [
       "'\\nExercises 练习\\nAll of the exercises are focused on practicing the code in the sections above.\\n所有练习都集中于练习上面各节中的代码。\\n\\nYou should be able to complete them by referencing each section or by following the resource(s) linked.\\n您应该能够通过参考每个部分或遵循链接的资源来完成它们。\\n\\nAll exercises should be completed using device-agnostic code.\\n所有练习都应使用与设备无关的代码来完成。\\n\\nResources: 资源：\\n\\nExercise template notebook for 03\\n03 练习模板笔记本\\nExample solutions notebook for 03 (try the exercises before looking at this)\\n03 的示例解决方案笔记本（在看此内容之前先尝试一下练习）\\nWhat are 3 areas in industry where computer vision is currently being used?\\n当前使用计算机视觉的工业领域有哪三个？\\nSearch \"what is overfitting in machine learning\" and write down a sentence about what you find.\\n搜索“机器学习中的过度拟合是什么”并写下关于您找到的内容的句子。\\nSearch \"ways to prevent overfitting in machine learning\", write down 3 of the things you find and a sentence about each. Note: there are lots of these, so don\\'t worry too much about all of them, just pick 3 and start with those.\\n搜索“防止机器学习中过度拟合的方法”，写下您找到的 3 个内容以及每个内容的一个句子。注意：有很多，所以不必太担心所有这些，只需选择 3 个并从这些开始。\\nSpend 20-minutes reading and clicking through the CNN Explainer website.\\n花 20 分钟阅读并点击CNN Expander 网站。\\nUpload your own example image using the \"upload\" button and see what happens in each layer of a CNN as your image passes through it.\\n使用“上传”按钮上传您自己的示例图像，并查看当您的图像通过 CNN 的每一层时会发生什么。\\nLoad the torchvision.datasets.MNIST() train and test datasets.\\n加载torchvision.datasets.MNIST()训练和测试数据集。\\nVisualize at least 5 different samples of the MNIST training dataset.\\n可视化 MNIST 训练数据集的至少 5 个不同样本。\\nTurn the MNIST train and test datasets into dataloaders using torch.utils.data.DataLoader, set the batch_size=32.\\n使用torch.utils.data.DataLoader将 MNIST 训练和测试数据集转换为数据加载器，设置batch_size=32 。\\nRecreate model_2 used in this notebook (the same model from the CNN Explainer website, also known as TinyVGG) capable of fitting on the MNIST dataset.\\n重新创建本笔记本中使用的model_2 （与CNNExplainer 网站上的模型相同，也称为 TinyVGG），能够拟合 MNIST 数据集。\\nTrain the model you built in exercise 8. on CPU and GPU and see how long it takes on each.\\n在 CPU 和 GPU 上训练您在练习 8. 中构建的模型，并查看每个模型需要多长时间。\\nMake predictions using your trained model and visualize at least 5 of them comparing the prediciton to the target label.\\n使用经过训练的模型进行预测，并将预测与目标标签进行比较，并可视化至少 5 个预测。\\nPlot a confusion matrix comparing your model\\'s predictions to the truth labels.\\n绘制混淆矩阵，将模型的预测与真实标签进行比较。\\nCreate a random tensor of shape [1, 3, 64, 64] and pass it through a nn.Conv2d() layer with various hyperparameter settings (these can be any settings you choose), what do you notice if the kernel_size parameter goes up and down?\\n创建形状为[1, 3, 64, 64]的随机张量，并将其传递到具有各种超参数设置（这些可以是您选择的任何设置）的nn.Conv2d()层，如果kernel_size参数上升，您会注意到什么向下？\\nUse a model similar to the trained model_2 from this notebook to make predictions on the test torchvision.datasets.FashionMNIST dataset.\\n使用与本笔记本中经过训练的model_2类似的模型对测试进行预测数据集。\\nThen plot some predictions where the model was wrong alongside what the label of the image should\\'ve been.\\n然后绘制一些模型错误的预测以及图像的标签应该是什么。\\nAfter visualing these predictions do you think it\\'s more of a modelling error or a data error?\\n看到这些预测后，您认为这更多的是建模错误还是数据错误？\\nAs in, could the model do better or are the labels of the data too close to each other (e.g. a \"Shirt\" label is too close to \"T-shirt/top\")?\\n例如，模型是否可以做得更好，或者数据的标签是否彼此太接近（例如“衬衫”标签与“T 恤/上衣”太接近）？\\n\\n\\n'"
      ]
     },
     "execution_count": 110,
     "metadata": {},
     "output_type": "execute_result"
    }
   ],
   "source": [
    "'''\n",
    "Exercises 练习\n",
    "All of the exercises are focused on practicing the code in the sections above.\n",
    "所有练习都集中于练习上面各节中的代码。\n",
    "\n",
    "You should be able to complete them by referencing each section or by following the resource(s) linked.\n",
    "您应该能够通过参考每个部分或遵循链接的资源来完成它们。\n",
    "\n",
    "All exercises should be completed using device-agnostic code.\n",
    "所有练习都应使用与设备无关的代码来完成。\n",
    "\n",
    "Resources: 资源：\n",
    "\n",
    "Exercise template notebook for 03\n",
    "03 练习模板笔记本\n",
    "Example solutions notebook for 03 (try the exercises before looking at this)\n",
    "03 的示例解决方案笔记本（在看此内容之前先尝试一下练习）\n",
    "What are 3 areas in industry where computer vision is currently being used?\n",
    "当前使用计算机视觉的工业领域有哪三个？\n",
    "Search \"what is overfitting in machine learning\" and write down a sentence about what you find.\n",
    "搜索“机器学习中的过度拟合是什么”并写下关于您找到的内容的句子。\n",
    "Search \"ways to prevent overfitting in machine learning\", write down 3 of the things you find and a sentence about each. Note: there are lots of these, so don't worry too much about all of them, just pick 3 and start with those.\n",
    "搜索“防止机器学习中过度拟合的方法”，写下您找到的 3 个内容以及每个内容的一个句子。注意：有很多，所以不必太担心所有这些，只需选择 3 个并从这些开始。\n",
    "Spend 20-minutes reading and clicking through the CNN Explainer website.\n",
    "花 20 分钟阅读并点击CNN Expander 网站。\n",
    "Upload your own example image using the \"upload\" button and see what happens in each layer of a CNN as your image passes through it.\n",
    "使用“上传”按钮上传您自己的示例图像，并查看当您的图像通过 CNN 的每一层时会发生什么。\n",
    "Load the torchvision.datasets.MNIST() train and test datasets.\n",
    "加载torchvision.datasets.MNIST()训练和测试数据集。\n",
    "Visualize at least 5 different samples of the MNIST training dataset.\n",
    "可视化 MNIST 训练数据集的至少 5 个不同样本。\n",
    "Turn the MNIST train and test datasets into dataloaders using torch.utils.data.DataLoader, set the batch_size=32.\n",
    "使用torch.utils.data.DataLoader将 MNIST 训练和测试数据集转换为数据加载器，设置batch_size=32 。\n",
    "Recreate model_2 used in this notebook (the same model from the CNN Explainer website, also known as TinyVGG) capable of fitting on the MNIST dataset.\n",
    "重新创建本笔记本中使用的model_2 （与CNNExplainer 网站上的模型相同，也称为 TinyVGG），能够拟合 MNIST 数据集。\n",
    "Train the model you built in exercise 8. on CPU and GPU and see how long it takes on each.\n",
    "在 CPU 和 GPU 上训练您在练习 8. 中构建的模型，并查看每个模型需要多长时间。\n",
    "Make predictions using your trained model and visualize at least 5 of them comparing the prediciton to the target label.\n",
    "使用经过训练的模型进行预测，并将预测与目标标签进行比较，并可视化至少 5 个预测。\n",
    "Plot a confusion matrix comparing your model's predictions to the truth labels.\n",
    "绘制混淆矩阵，将模型的预测与真实标签进行比较。\n",
    "Create a random tensor of shape [1, 3, 64, 64] and pass it through a nn.Conv2d() layer with various hyperparameter settings (these can be any settings you choose), what do you notice if the kernel_size parameter goes up and down?\n",
    "创建形状为[1, 3, 64, 64]的随机张量，并将其传递到具有各种超参数设置（这些可以是您选择的任何设置）的nn.Conv2d()层，如果kernel_size参数上升，您会注意到什么向下？\n",
    "Use a model similar to the trained model_2 from this notebook to make predictions on the test torchvision.datasets.FashionMNIST dataset.\n",
    "使用与本笔记本中经过训练的model_2类似的模型对测试进行预测数据集。\n",
    "Then plot some predictions where the model was wrong alongside what the label of the image should've been.\n",
    "然后绘制一些模型错误的预测以及图像的标签应该是什么。\n",
    "After visualing these predictions do you think it's more of a modelling error or a data error?\n",
    "看到这些预测后，您认为这更多的是建模错误还是数据错误？\n",
    "As in, could the model do better or are the labels of the data too close to each other (e.g. a \"Shirt\" label is too close to \"T-shirt/top\")?\n",
    "例如，模型是否可以做得更好，或者数据的标签是否彼此太接近（例如“衬衫”标签与“T 恤/上衣”太接近）？\n",
    "\n",
    "\n",
    "'''"
   ]
  },
  {
   "cell_type": "code",
   "execution_count": null,
   "metadata": {},
   "outputs": [],
   "source": [
    "'''\n",
    "\n",
    "Exercises 练习\n",
    "All of the exercises are focused on practicing the code in the sections above.\n",
    "所有练习都集中于练习上面各节中的代码。\n",
    "\n",
    "You should be able to complete them by referencing each section or by following the resource(s) linked.\n",
    "您应该能够通过参考每个部分或遵循链接的资源来完成它们。\n",
    "\n",
    "All exercises should be completed using device-agnostic code.\n",
    "所有练习都应使用与设备无关的代码来完成。\n",
    "\n",
    "Resources: 资源：\n",
    "\n",
    "Exercise template notebook for 03\n",
    "03 练习模板笔记本\n",
    "Example solutions notebook for 03 (try the exercises before looking at this)\n",
    "03 的示例解决方案笔记本（在看此内容之前先尝试一下练习）\n",
    "What are 3 areas in industry where computer vision is currently being used?\n",
    "当前使用计算机视觉的工业领域有哪三个？\n",
    "Search \"what is overfitting in machine learning\" and write down a sentence about what you find.\n",
    "搜索“机器学习中的过度拟合是什么”并写下关于您找到的内容的句子。\n",
    "Search \"ways to prevent overfitting in machine learning\", write down 3 of the things you find and a sentence about each. Note: there are lots of these, so don't worry too much about all of them, just pick 3 and start with those.\n",
    "搜索“防止机器学习中过度拟合的方法”，写下您找到的 3 个内容以及每个内容的一个句子。注意：有很多，所以不必太担心所有这些，只需选择 3 个并从这些开始。\n",
    "Spend 20-minutes reading and clicking through the CNN Explainer website.\n",
    "花 20 分钟阅读并点击CNN Expander 网站。\n",
    "Upload your own example image using the \"upload\" button and see what happens in each layer of a CNN as your image passes through it.\n",
    "使用“上传”按钮上传您自己的示例图像，并查看当您的图像通过 CNN 的每一层时会发生什么。\n",
    "Load the torchvision.datasets.MNIST() train and test datasets.\n",
    "加载torchvision.datasets.MNIST()训练和测试数据集。\n",
    "Visualize at least 5 different samples of the MNIST training dataset.\n",
    "可视化 MNIST 训练数据集的至少 5 个不同样本。\n",
    "Turn the MNIST train and test datasets into dataloaders using torch.utils.data.DataLoader, set the batch_size=32.\n",
    "使用torch.utils.data.DataLoader将 MNIST 训练和测试数据集转换为数据加载器，设置batch_size=32 。\n",
    "Recreate model_2 used in this notebook (the same model from the CNN Explainer website, also known as TinyVGG) capable of fitting on the MNIST dataset.\n",
    "重新创建本笔记本中使用的model_2 （与CNNExplainer 网站上的模型相同，也称为 TinyVGG），能够拟合 MNIST 数据集。\n",
    "Train the model you built in exercise 8. on CPU and GPU and see how long it takes on each.\n",
    "在 CPU 和 GPU 上训练您在练习 8. 中构建的模型，并查看每个模型需要多长时间。\n",
    "Make predictions using your trained model and visualize at least 5 of them comparing the prediciton to the target label.\n",
    "使用经过训练的模型进行预测，并将预测与目标标签进行比较，并可视化至少 5 个预测。\n",
    "Plot a confusion matrix comparing your model's predictions to the truth labels.\n",
    "绘制混淆矩阵，将模型的预测与真实标签进行比较。\n",
    "Create a random tensor of shape [1, 3, 64, 64] and pass it through a nn.Conv2d() layer with various hyperparameter settings (these can be any settings you choose), what do you notice if the kernel_size parameter goes up and down?\n",
    "创建形状为[1, 3, 64, 64]的随机张量，并将其传递到具有各种超参数设置（这些可以是您选择的任何设置）的nn.Conv2d()层，如果kernel_size参数上升，您会注意到什么向下？\n",
    "Use a model similar to the trained model_2 from this notebook to make predictions on the test torchvision.datasets.FashionMNIST dataset.\n",
    "使用与本笔记本中经过训练的model_2类似的模型对测试进行预测数据集。\n",
    "Then plot some predictions where the model was wrong alongside what the label of the image should've been.\n",
    "然后绘制一些模型错误的预测以及图像的标签应该是什么。\n",
    "After visualing these predictions do you think it's more of a modelling error or a data error?\n",
    "看到这些预测后，您认为这更多的是建模错误还是数据错误？\n",
    "As in, could the model do better or are the labels of the data too close to each other (e.g. a \"Shirt\" label is too close to \"T-shirt/top\")?\n",
    "例如，模型是否可以做得更好，或者数据的标签是否彼此太接近（例如“衬衫”标签与“T 恤/上衣”太接近）？\n",
    "Extra-curriculum 课外活动\n",
    "Watch: MIT's Introduction to Deep Computer Vision lecture. This will give you a great intuition behind convolutional neural networks.\n",
    "观看：麻省理工学院的深度计算机视觉简介讲座。这将使您对卷积神经网络背后有一个很好的直觉。\n",
    "Spend 10-minutes clicking thorugh the different options of the PyTorch vision library, what different modules are available?\n",
    "花 10 分钟浏览PyTorch 视觉库的不同选项，有哪些不同的模块可用？\n",
    "Lookup \"most common convolutional neural networks\", what architectures do you find? Are any of them contained within the torchvision.models library? What do you think you could do with these?\n",
    "查找“最常见的卷积神经网络”，你发现了什么架构？它们中的任何一个都包含在torchvision.models库中吗？你认为你可以用这些做什么？\n",
    "For a large number of pretrained PyTorch computer vision models as well as many different extensions to PyTorch's computer vision functionalities check out the PyTorch Image Models library timm (Torch Image Models) by Ross Wightman.\n",
    "对于大量预训练的 PyTorch 计算机视觉模型以及 PyTorch 计算机视觉功能的许多不同扩展，请查看 Ross Wightman 的PyTorch 图像模型库timm （Torch 图像模型）。\n",
    "\n",
    "\n",
    "\n",
    "'''"
   ]
  }
 ],
 "metadata": {
  "kernelspec": {
   "display_name": "env_dlfs",
   "language": "python",
   "name": "python3"
  },
  "language_info": {
   "codemirror_mode": {
    "name": "ipython",
    "version": 3
   },
   "file_extension": ".py",
   "mimetype": "text/x-python",
   "name": "python",
   "nbconvert_exporter": "python",
   "pygments_lexer": "ipython3",
   "version": "3.10.6"
  },
  "orig_nbformat": 4
 },
 "nbformat": 4,
 "nbformat_minor": 2
}
